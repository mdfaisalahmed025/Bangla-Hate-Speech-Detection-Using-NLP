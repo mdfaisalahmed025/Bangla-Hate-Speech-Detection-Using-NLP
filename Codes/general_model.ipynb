{
  "nbformat": 4,
  "nbformat_minor": 0,
  "metadata": {
    "colab": {
      "name": "general_model ",
      "provenance": [],
      "collapsed_sections": []
    },
    "kernelspec": {
      "name": "python3",
      "display_name": "Python 3"
    },
    "language_info": {
      "name": "python"
    }
  },
  "cells": [
    {
      "cell_type": "code",
      "execution_count": 1,
      "metadata": {
        "colab": {
          "base_uri": "https://localhost:8080/"
        },
        "id": "GtpHMt-hCBmM",
        "outputId": "898655d9-fa67-48b2-f372-2cde57431f72"
      },
      "outputs": [
        {
          "output_type": "stream",
          "name": "stdout",
          "text": [
            "3.7.13 (default, Apr 24 2022, 01:04:09) \n",
            "[GCC 7.5.0]\n"
          ]
        }
      ],
      "source": [
        "import sys\n",
        "print(sys.version)"
      ]
    },
    {
      "cell_type": "code",
      "source": [
        "# Importing dependencies\n",
        "import numpy as np\n",
        "np.random.seed(1)\n",
        "import tensorflow\n",
        "tensorflow.random.set_seed(42)\n",
        "tensorflow.random.set_seed(2)\n",
        "import pandas as pd\n",
        "import matplotlib.pyplot as plt\n",
        "from keras.models import Sequential, load_model\n",
        "from keras.layers.core import Dense\n",
        "from keras.layers.recurrent import GRU\n",
        "from keras import optimizers\n",
        "from keras.callbacks import EarlyStopping\n",
        "from sklearn.preprocessing import MinMaxScaler\n",
        "from sklearn.metrics import mean_squared_error, r2_score\n",
        "from math import sqrt\n",
        "import datetime as dt\n",
        "import time\n",
        "plt.style.use('ggplot')"
      ],
      "metadata": {
        "id": "AEJTx_w6CGZm"
      },
      "execution_count": 7,
      "outputs": []
    },
    {
      "cell_type": "code",
      "source": [
        "# Setting up an early stop\n",
        "earlystop = EarlyStopping(monitor='val_loss', min_delta=0.0001, patience=80,  verbose=1, mode='min')\n",
        "callbacks_list = [earlystop]"
      ],
      "metadata": {
        "id": "y93fmtBVDkoB"
      },
      "execution_count": 8,
      "outputs": []
    },
    {
      "cell_type": "code",
      "source": [
        "import pandas as pd\n",
        "df = pd.read_csv(\"/content/DataSet-Final.csv\")\n",
        "df.tail()"
      ],
      "metadata": {
        "colab": {
          "base_uri": "https://localhost:8080/",
          "height": 206
        },
        "id": "mJUcc5q6Dozg",
        "outputId": "113c0d22-2472-43e7-d356-1f1c27050021"
      },
      "execution_count": 9,
      "outputs": [
        {
          "output_type": "execute_result",
          "data": {
            "text/plain": [
              "                                                   text                label\n",
              "4978           শালী একটা মাগী অতিবিশিষ্ট  দের ছুদা দেয়   Gender abusive hate\n",
              "4979                         সালিরে কঠিন সাজা দেওয়া হোক  Gender abusive hate\n",
              "4980  ওই খানকিরে সব ছাএ ভাইয়েরা মিলা ছুদেন তাই নাকি ...  Gender abusive hate\n",
              "4981     নায়িকা ফেল তরে এক রাত চুতে পারলে অনেক বাল লাগত  Gender abusive hate\n",
              "4982  শ্রাবনী শায়ালাকে চুদবো ওর মা কে কুকুর দিয়ে চুদাবো  Gender abusive hate"
            ],
            "text/html": [
              "\n",
              "  <div id=\"df-7529a219-3877-4fc3-a0fa-539d254197c3\">\n",
              "    <div class=\"colab-df-container\">\n",
              "      <div>\n",
              "<style scoped>\n",
              "    .dataframe tbody tr th:only-of-type {\n",
              "        vertical-align: middle;\n",
              "    }\n",
              "\n",
              "    .dataframe tbody tr th {\n",
              "        vertical-align: top;\n",
              "    }\n",
              "\n",
              "    .dataframe thead th {\n",
              "        text-align: right;\n",
              "    }\n",
              "</style>\n",
              "<table border=\"1\" class=\"dataframe\">\n",
              "  <thead>\n",
              "    <tr style=\"text-align: right;\">\n",
              "      <th></th>\n",
              "      <th>text</th>\n",
              "      <th>label</th>\n",
              "    </tr>\n",
              "  </thead>\n",
              "  <tbody>\n",
              "    <tr>\n",
              "      <th>4978</th>\n",
              "      <td>শালী একটা মাগী অতিবিশিষ্ট  দের ছুদা দেয়</td>\n",
              "      <td>Gender abusive hate</td>\n",
              "    </tr>\n",
              "    <tr>\n",
              "      <th>4979</th>\n",
              "      <td>সালিরে কঠিন সাজা দেওয়া হোক</td>\n",
              "      <td>Gender abusive hate</td>\n",
              "    </tr>\n",
              "    <tr>\n",
              "      <th>4980</th>\n",
              "      <td>ওই খানকিরে সব ছাএ ভাইয়েরা মিলা ছুদেন তাই নাকি ...</td>\n",
              "      <td>Gender abusive hate</td>\n",
              "    </tr>\n",
              "    <tr>\n",
              "      <th>4981</th>\n",
              "      <td>নায়িকা ফেল তরে এক রাত চুতে পারলে অনেক বাল লাগত</td>\n",
              "      <td>Gender abusive hate</td>\n",
              "    </tr>\n",
              "    <tr>\n",
              "      <th>4982</th>\n",
              "      <td>শ্রাবনী শায়ালাকে চুদবো ওর মা কে কুকুর দিয়ে চুদাবো</td>\n",
              "      <td>Gender abusive hate</td>\n",
              "    </tr>\n",
              "  </tbody>\n",
              "</table>\n",
              "</div>\n",
              "      <button class=\"colab-df-convert\" onclick=\"convertToInteractive('df-7529a219-3877-4fc3-a0fa-539d254197c3')\"\n",
              "              title=\"Convert this dataframe to an interactive table.\"\n",
              "              style=\"display:none;\">\n",
              "        \n",
              "  <svg xmlns=\"http://www.w3.org/2000/svg\" height=\"24px\"viewBox=\"0 0 24 24\"\n",
              "       width=\"24px\">\n",
              "    <path d=\"M0 0h24v24H0V0z\" fill=\"none\"/>\n",
              "    <path d=\"M18.56 5.44l.94 2.06.94-2.06 2.06-.94-2.06-.94-.94-2.06-.94 2.06-2.06.94zm-11 1L8.5 8.5l.94-2.06 2.06-.94-2.06-.94L8.5 2.5l-.94 2.06-2.06.94zm10 10l.94 2.06.94-2.06 2.06-.94-2.06-.94-.94-2.06-.94 2.06-2.06.94z\"/><path d=\"M17.41 7.96l-1.37-1.37c-.4-.4-.92-.59-1.43-.59-.52 0-1.04.2-1.43.59L10.3 9.45l-7.72 7.72c-.78.78-.78 2.05 0 2.83L4 21.41c.39.39.9.59 1.41.59.51 0 1.02-.2 1.41-.59l7.78-7.78 2.81-2.81c.8-.78.8-2.07 0-2.86zM5.41 20L4 18.59l7.72-7.72 1.47 1.35L5.41 20z\"/>\n",
              "  </svg>\n",
              "      </button>\n",
              "      \n",
              "  <style>\n",
              "    .colab-df-container {\n",
              "      display:flex;\n",
              "      flex-wrap:wrap;\n",
              "      gap: 12px;\n",
              "    }\n",
              "\n",
              "    .colab-df-convert {\n",
              "      background-color: #E8F0FE;\n",
              "      border: none;\n",
              "      border-radius: 50%;\n",
              "      cursor: pointer;\n",
              "      display: none;\n",
              "      fill: #1967D2;\n",
              "      height: 32px;\n",
              "      padding: 0 0 0 0;\n",
              "      width: 32px;\n",
              "    }\n",
              "\n",
              "    .colab-df-convert:hover {\n",
              "      background-color: #E2EBFA;\n",
              "      box-shadow: 0px 1px 2px rgba(60, 64, 67, 0.3), 0px 1px 3px 1px rgba(60, 64, 67, 0.15);\n",
              "      fill: #174EA6;\n",
              "    }\n",
              "\n",
              "    [theme=dark] .colab-df-convert {\n",
              "      background-color: #3B4455;\n",
              "      fill: #D2E3FC;\n",
              "    }\n",
              "\n",
              "    [theme=dark] .colab-df-convert:hover {\n",
              "      background-color: #434B5C;\n",
              "      box-shadow: 0px 1px 3px 1px rgba(0, 0, 0, 0.15);\n",
              "      filter: drop-shadow(0px 1px 2px rgba(0, 0, 0, 0.3));\n",
              "      fill: #FFFFFF;\n",
              "    }\n",
              "  </style>\n",
              "\n",
              "      <script>\n",
              "        const buttonEl =\n",
              "          document.querySelector('#df-7529a219-3877-4fc3-a0fa-539d254197c3 button.colab-df-convert');\n",
              "        buttonEl.style.display =\n",
              "          google.colab.kernel.accessAllowed ? 'block' : 'none';\n",
              "\n",
              "        async function convertToInteractive(key) {\n",
              "          const element = document.querySelector('#df-7529a219-3877-4fc3-a0fa-539d254197c3');\n",
              "          const dataTable =\n",
              "            await google.colab.kernel.invokeFunction('convertToInteractive',\n",
              "                                                     [key], {});\n",
              "          if (!dataTable) return;\n",
              "\n",
              "          const docLinkHtml = 'Like what you see? Visit the ' +\n",
              "            '<a target=\"_blank\" href=https://colab.research.google.com/notebooks/data_table.ipynb>data table notebook</a>'\n",
              "            + ' to learn more about interactive tables.';\n",
              "          element.innerHTML = '';\n",
              "          dataTable['output_type'] = 'display_data';\n",
              "          await google.colab.output.renderOutput(dataTable, element);\n",
              "          const docLink = document.createElement('div');\n",
              "          docLink.innerHTML = docLinkHtml;\n",
              "          element.appendChild(docLink);\n",
              "        }\n",
              "      </script>\n",
              "    </div>\n",
              "  </div>\n",
              "  "
            ]
          },
          "metadata": {},
          "execution_count": 9
        }
      ]
    },
    {
      "cell_type": "code",
      "source": [
        "# Correlation matrix\n",
        "df.corr()"
      ],
      "metadata": {
        "colab": {
          "base_uri": "https://localhost:8080/",
          "height": 49
        },
        "id": "5qJPHxgMEB5n",
        "outputId": "e78b3e6a-6766-4f5f-a668-9032ff2bece9"
      },
      "execution_count": 14,
      "outputs": [
        {
          "output_type": "execute_result",
          "data": {
            "text/plain": [
              "Empty DataFrame\n",
              "Columns: []\n",
              "Index: []"
            ],
            "text/html": [
              "\n",
              "  <div id=\"df-b30d0597-15b6-4718-89e3-98938395ccc3\">\n",
              "    <div class=\"colab-df-container\">\n",
              "      <div>\n",
              "<style scoped>\n",
              "    .dataframe tbody tr th:only-of-type {\n",
              "        vertical-align: middle;\n",
              "    }\n",
              "\n",
              "    .dataframe tbody tr th {\n",
              "        vertical-align: top;\n",
              "    }\n",
              "\n",
              "    .dataframe thead th {\n",
              "        text-align: right;\n",
              "    }\n",
              "</style>\n",
              "<table border=\"1\" class=\"dataframe\">\n",
              "  <thead>\n",
              "    <tr style=\"text-align: right;\">\n",
              "      <th></th>\n",
              "    </tr>\n",
              "  </thead>\n",
              "  <tbody>\n",
              "  </tbody>\n",
              "</table>\n",
              "</div>\n",
              "      <button class=\"colab-df-convert\" onclick=\"convertToInteractive('df-b30d0597-15b6-4718-89e3-98938395ccc3')\"\n",
              "              title=\"Convert this dataframe to an interactive table.\"\n",
              "              style=\"display:none;\">\n",
              "        \n",
              "  <svg xmlns=\"http://www.w3.org/2000/svg\" height=\"24px\"viewBox=\"0 0 24 24\"\n",
              "       width=\"24px\">\n",
              "    <path d=\"M0 0h24v24H0V0z\" fill=\"none\"/>\n",
              "    <path d=\"M18.56 5.44l.94 2.06.94-2.06 2.06-.94-2.06-.94-.94-2.06-.94 2.06-2.06.94zm-11 1L8.5 8.5l.94-2.06 2.06-.94-2.06-.94L8.5 2.5l-.94 2.06-2.06.94zm10 10l.94 2.06.94-2.06 2.06-.94-2.06-.94-.94-2.06-.94 2.06-2.06.94z\"/><path d=\"M17.41 7.96l-1.37-1.37c-.4-.4-.92-.59-1.43-.59-.52 0-1.04.2-1.43.59L10.3 9.45l-7.72 7.72c-.78.78-.78 2.05 0 2.83L4 21.41c.39.39.9.59 1.41.59.51 0 1.02-.2 1.41-.59l7.78-7.78 2.81-2.81c.8-.78.8-2.07 0-2.86zM5.41 20L4 18.59l7.72-7.72 1.47 1.35L5.41 20z\"/>\n",
              "  </svg>\n",
              "      </button>\n",
              "      \n",
              "  <style>\n",
              "    .colab-df-container {\n",
              "      display:flex;\n",
              "      flex-wrap:wrap;\n",
              "      gap: 12px;\n",
              "    }\n",
              "\n",
              "    .colab-df-convert {\n",
              "      background-color: #E8F0FE;\n",
              "      border: none;\n",
              "      border-radius: 50%;\n",
              "      cursor: pointer;\n",
              "      display: none;\n",
              "      fill: #1967D2;\n",
              "      height: 32px;\n",
              "      padding: 0 0 0 0;\n",
              "      width: 32px;\n",
              "    }\n",
              "\n",
              "    .colab-df-convert:hover {\n",
              "      background-color: #E2EBFA;\n",
              "      box-shadow: 0px 1px 2px rgba(60, 64, 67, 0.3), 0px 1px 3px 1px rgba(60, 64, 67, 0.15);\n",
              "      fill: #174EA6;\n",
              "    }\n",
              "\n",
              "    [theme=dark] .colab-df-convert {\n",
              "      background-color: #3B4455;\n",
              "      fill: #D2E3FC;\n",
              "    }\n",
              "\n",
              "    [theme=dark] .colab-df-convert:hover {\n",
              "      background-color: #434B5C;\n",
              "      box-shadow: 0px 1px 3px 1px rgba(0, 0, 0, 0.15);\n",
              "      filter: drop-shadow(0px 1px 2px rgba(0, 0, 0, 0.3));\n",
              "      fill: #FFFFFF;\n",
              "    }\n",
              "  </style>\n",
              "\n",
              "      <script>\n",
              "        const buttonEl =\n",
              "          document.querySelector('#df-b30d0597-15b6-4718-89e3-98938395ccc3 button.colab-df-convert');\n",
              "        buttonEl.style.display =\n",
              "          google.colab.kernel.accessAllowed ? 'block' : 'none';\n",
              "\n",
              "        async function convertToInteractive(key) {\n",
              "          const element = document.querySelector('#df-b30d0597-15b6-4718-89e3-98938395ccc3');\n",
              "          const dataTable =\n",
              "            await google.colab.kernel.invokeFunction('convertToInteractive',\n",
              "                                                     [key], {});\n",
              "          if (!dataTable) return;\n",
              "\n",
              "          const docLinkHtml = 'Like what you see? Visit the ' +\n",
              "            '<a target=\"_blank\" href=https://colab.research.google.com/notebooks/data_table.ipynb>data table notebook</a>'\n",
              "            + ' to learn more about interactive tables.';\n",
              "          element.innerHTML = '';\n",
              "          dataTable['output_type'] = 'display_data';\n",
              "          await google.colab.output.renderOutput(dataTable, element);\n",
              "          const docLink = document.createElement('div');\n",
              "          docLink.innerHTML = docLinkHtml;\n",
              "          element.appendChild(docLink);\n",
              "        }\n",
              "      </script>\n",
              "    </div>\n",
              "  </div>\n",
              "  "
            ]
          },
          "metadata": {},
          "execution_count": 14
        }
      ]
    },
    {
      "cell_type": "code",
      "source": [
        "print(df.describe().label) \n",
        "df.drop(df[df['label']==0].index, inplace = True) #Dropping rows with volume value 0"
      ],
      "metadata": {
        "colab": {
          "base_uri": "https://localhost:8080/"
        },
        "id": "SVpxCZ2-EesV",
        "outputId": "a7c0079f-d0fe-40c6-f1c4-5152398d8c5d"
      },
      "execution_count": 15,
      "outputs": [
        {
          "output_type": "stream",
          "name": "stdout",
          "text": [
            "count             4983\n",
            "unique              14\n",
            "top       Geopolitical\n",
            "freq              1379\n",
            "Name: label, dtype: object\n"
          ]
        }
      ]
    },
    {
      "cell_type": "code",
      "source": [
        "#Build and train the model\n",
        "def fit_model(train,val,timesteps,hl,lr,batch,epochs):\n",
        "    X_train = []\n",
        "    Y_train = []\n",
        "    X_val = []\n",
        "    Y_val = []\n",
        "  \n",
        "    # Loop for training data\n",
        "    for i in range(timesteps,train.shape[0]):\n",
        "        X_train.append(train[i-timesteps:i])\n",
        "        Y_train.append(train[i][0])\n",
        "    X_train,Y_train = np.array(X_train),np.array(Y_train)\n",
        "  \n",
        "    # Loop for val data\n",
        "    for i in range(timesteps,val.shape[0]):\n",
        "        X_val.append(val[i-timesteps:i])\n",
        "        Y_val.append(val[i][0])\n",
        "    X_val,Y_val = np.array(X_val),np.array(Y_val)\n",
        "  \n",
        "    # Adding Layers to the model\n",
        "    model = Sequential()\n",
        "    model.add(GRU(X_train.shape[2],input_shape = (X_train.shape[1],X_train.shape[2]),return_sequences = True,\n",
        "                  activation = 'relu'))\n",
        "    for i in range(len(hl)-1):        \n",
        "        model.add(GRU(hl[i],activation = 'relu',return_sequences = True))\n",
        "    model.add(GRU(hl[-1],activation = 'relu'))\n",
        "    model.add(Dense(1))\n",
        "    model.compile(optimizer = optimizers.Adam(lr = lr), loss = 'mean_squared_error')\n",
        "  \n",
        "    # Training the data\n",
        "    history = model.fit(X_train,Y_train,epochs = epochs,batch_size = batch,validation_data = (X_val, Y_val),verbose = 0,\n",
        "                        shuffle = False, callbacks=callbacks_list)\n",
        "    model.reset_states()\n",
        "    return model, history.history['loss'], history.history['val_loss']\n",
        "  "
      ],
      "metadata": {
        "id": "JA-o965MEtEI"
      },
      "execution_count": 16,
      "outputs": []
    },
    {
      "cell_type": "code",
      "source": [
        "# Evaluating the model\n",
        "def evaluate_model(model,test,timesteps):\n",
        "    X_test = []\n",
        "    Y_test = []\n",
        "\n",
        "    # Loop for testing data\n",
        "    for i in range(timesteps,test.shape[0]):\n",
        "        X_test.append(test[i-timesteps:i])\n",
        "        Y_test.append(test[i][0])\n",
        "    X_test,Y_test = np.array(X_test),np.array(Y_test)\n",
        "  \n",
        "    # Prediction Time !!!!\n",
        "    Y_hat = model.predict(X_test)\n",
        "    mse = mean_squared_error(Y_test,Y_hat)\n",
        "    rmse = sqrt(mse)\n",
        "    r2 = r2_score(Y_test,Y_hat)\n",
        "    return mse,rmse, r2, Y_test, Y_hat\n",
        "  "
      ],
      "metadata": {
        "id": "xtXfvs3ZEzS4"
      },
      "execution_count": 17,
      "outputs": []
    },
    {
      "cell_type": "code",
      "source": [
        "# Plotting the predictions\n",
        "def plot_data(Y_test,Y_hat):\n",
        "    plt.plot(Y_test,c = 'r')\n",
        "    plt.plot(Y_hat,c = 'y')\n",
        "    plt.xlabel('x')\n",
        "    plt.ylabel('y')\n",
        "    plt.title(\"hate speech using Multivariate-GRU\")\n",
        "    plt.legend(['Actual','Predicted'],loc = 'lower right')\n",
        "    plt.show()"
      ],
      "metadata": {
        "id": "T2IpUib0FBsA"
      },
      "execution_count": 18,
      "outputs": []
    },
    {
      "cell_type": "code",
      "source": [
        "# Plotting the training errors\n",
        "def plot_error(train_loss,val_loss):\n",
        "    plt.plot(train_loss,c = 'r')\n",
        "    plt.plot(val_loss,c = 'b')\n",
        "    plt.ylabel('Loss')\n",
        "    plt.xlabel('Epochs')\n",
        "    plt.title('Loss Plot')\n",
        "    plt.legend(['train','val'],loc = 'lower right')\n",
        "    plt.show()"
      ],
      "metadata": {
        "id": "bT8uqjiBFJYA"
      },
      "execution_count": 19,
      "outputs": []
    },
    {
      "cell_type": "code",
      "source": [
        "# Extracting the series\n",
        "series = df[['text','label']] # Picking the features\n",
        "print(series.shape)\n",
        "print(series.tail())"
      ],
      "metadata": {
        "colab": {
          "base_uri": "https://localhost:8080/"
        },
        "id": "Qfhti9CWFOFo",
        "outputId": "8a41563a-9bb4-470c-e714-8b8a4be5d457"
      },
      "execution_count": 20,
      "outputs": [
        {
          "output_type": "stream",
          "name": "stdout",
          "text": [
            "(4983, 2)\n",
            "                                                   text                label\n",
            "4978           শালী একটা মাগী অতিবিশিষ্ট  দের ছুদা দেয়   Gender abusive hate\n",
            "4979                         সালিরে কঠিন সাজা দেওয়া হোক  Gender abusive hate\n",
            "4980  ওই খানকিরে সব ছাএ ভাইয়েরা মিলা ছুদেন তাই নাকি ...  Gender abusive hate\n",
            "4981     নায়িকা ফেল তরে এক রাত চুতে পারলে অনেক বাল লাগত  Gender abusive hate\n",
            "4982  শ্রাবনী শায়ালাকে চুদবো ওর মা কে কুকুর দিয়ে চুদাবো  Gender abusive hate\n"
          ]
        }
      ]
    },
    {
      "cell_type": "code",
      "source": [
        "# Train Val Test Split\n",
        "train_data_start = df.label(1,1)\n",
        "train_data_end = df.label(12,31)\n",
        "train_data = series.loc[train_data_start:train_data_end]\n",
        "\n",
        "val_start = df.label(1,1)\n",
        "val_end = df.label(12,31)\n",
        "val_data = series.loc[val_start:val_end]\n",
        "\n",
        "test_start = df.label(1,1)\n",
        "test_end = df.label(12,31)\n",
        "test_data = series.loc[test_start:test_end]\n",
        "\n",
        "print(train_data.shape,val_data.shape,test_data.shape)"
      ],
      "metadata": {
        "colab": {
          "base_uri": "https://localhost:8080/",
          "height": 236
        },
        "id": "v1ruVrKJFZ_Q",
        "outputId": "67f10df2-8fad-4950-ff5c-23c54d015276"
      },
      "execution_count": 26,
      "outputs": [
        {
          "output_type": "error",
          "ename": "TypeError",
          "evalue": "ignored",
          "traceback": [
            "\u001b[0;31m---------------------------------------------------------------------------\u001b[0m",
            "\u001b[0;31mTypeError\u001b[0m                                 Traceback (most recent call last)",
            "\u001b[0;32m<ipython-input-26-7c509825155a>\u001b[0m in \u001b[0;36m<module>\u001b[0;34m()\u001b[0m\n\u001b[1;32m      1\u001b[0m \u001b[0;31m# Train Val Test Split\u001b[0m\u001b[0;34m\u001b[0m\u001b[0;34m\u001b[0m\u001b[0;34m\u001b[0m\u001b[0m\n\u001b[0;32m----> 2\u001b[0;31m \u001b[0mtrain_data_start\u001b[0m \u001b[0;34m=\u001b[0m \u001b[0mdf\u001b[0m\u001b[0;34m.\u001b[0m\u001b[0mlabel\u001b[0m\u001b[0;34m(\u001b[0m\u001b[0;36m1\u001b[0m\u001b[0;34m,\u001b[0m\u001b[0;36m1\u001b[0m\u001b[0;34m)\u001b[0m\u001b[0;34m\u001b[0m\u001b[0;34m\u001b[0m\u001b[0m\n\u001b[0m\u001b[1;32m      3\u001b[0m \u001b[0mtrain_data_end\u001b[0m \u001b[0;34m=\u001b[0m \u001b[0mdf\u001b[0m\u001b[0;34m.\u001b[0m\u001b[0mlabel\u001b[0m\u001b[0;34m(\u001b[0m\u001b[0;36m12\u001b[0m\u001b[0;34m,\u001b[0m\u001b[0;36m31\u001b[0m\u001b[0;34m)\u001b[0m\u001b[0;34m\u001b[0m\u001b[0;34m\u001b[0m\u001b[0m\n\u001b[1;32m      4\u001b[0m \u001b[0mtrain_data\u001b[0m \u001b[0;34m=\u001b[0m \u001b[0mseries\u001b[0m\u001b[0;34m.\u001b[0m\u001b[0mloc\u001b[0m\u001b[0;34m[\u001b[0m\u001b[0mtrain_data_start\u001b[0m\u001b[0;34m:\u001b[0m\u001b[0mtrain_data_end\u001b[0m\u001b[0;34m]\u001b[0m\u001b[0;34m\u001b[0m\u001b[0;34m\u001b[0m\u001b[0m\n\u001b[1;32m      5\u001b[0m \u001b[0;34m\u001b[0m\u001b[0m\n",
            "\u001b[0;31mTypeError\u001b[0m: 'Series' object is not callable"
          ]
        }
      ]
    },
    {
      "cell_type": "code",
      "source": [
        "timesteps = 40\n",
        "hl = [40,35]\n",
        "lr = 1e-4\n",
        "batch_size = 64\n",
        "num_epochs = 200"
      ],
      "metadata": {
        "id": "WRcshhxUHT7p"
      },
      "execution_count": 27,
      "outputs": []
    },
    {
      "cell_type": "code",
      "source": [
        "model,train_error,val_error = fit_model(timesteps,hl,lr,batch_size,num_epochs)\n",
        "plot_error(train_error,val_error)"
      ],
      "metadata": {
        "colab": {
          "base_uri": "https://localhost:8080/",
          "height": 184
        },
        "id": "gv07550vHYmB",
        "outputId": "d67a6d95-9adc-4a97-d9c8-081829d9289c"
      },
      "execution_count": 30,
      "outputs": [
        {
          "output_type": "error",
          "ename": "TypeError",
          "evalue": "ignored",
          "traceback": [
            "\u001b[0;31m---------------------------------------------------------------------------\u001b[0m",
            "\u001b[0;31mTypeError\u001b[0m                                 Traceback (most recent call last)",
            "\u001b[0;32m<ipython-input-30-ecba091fbdc1>\u001b[0m in \u001b[0;36m<module>\u001b[0;34m()\u001b[0m\n\u001b[0;32m----> 1\u001b[0;31m \u001b[0mmodel\u001b[0m\u001b[0;34m,\u001b[0m\u001b[0mtrain_error\u001b[0m\u001b[0;34m,\u001b[0m\u001b[0mval_error\u001b[0m \u001b[0;34m=\u001b[0m \u001b[0mfit_model\u001b[0m\u001b[0;34m(\u001b[0m\u001b[0mtimesteps\u001b[0m\u001b[0;34m,\u001b[0m\u001b[0mhl\u001b[0m\u001b[0;34m,\u001b[0m\u001b[0mlr\u001b[0m\u001b[0;34m,\u001b[0m\u001b[0mbatch_size\u001b[0m\u001b[0;34m,\u001b[0m\u001b[0mnum_epochs\u001b[0m\u001b[0;34m)\u001b[0m\u001b[0;34m\u001b[0m\u001b[0;34m\u001b[0m\u001b[0m\n\u001b[0m\u001b[1;32m      2\u001b[0m \u001b[0mplot_error\u001b[0m\u001b[0;34m(\u001b[0m\u001b[0mtrain_error\u001b[0m\u001b[0;34m,\u001b[0m\u001b[0mval_error\u001b[0m\u001b[0;34m)\u001b[0m\u001b[0;34m\u001b[0m\u001b[0;34m\u001b[0m\u001b[0m\n",
            "\u001b[0;31mTypeError\u001b[0m: fit_model() missing 2 required positional arguments: 'batch' and 'epochs'"
          ]
        }
      ]
    },
    {
      "cell_type": "code",
      "source": [
        ""
      ],
      "metadata": {
        "id": "7x4bA7_cJhRA"
      },
      "execution_count": null,
      "outputs": []
    },
    {
      "cell_type": "code",
      "source": [
        "# Normalisation\n",
        "sc = MinMaxScaler()\n",
        "train = sc.fit_transform(train_data)\n",
        "val = sc.transform(val_data)\n",
        "test = sc.transform(test_data)\n",
        "print(train.shape,val.shape,test.shape)"
      ],
      "metadata": {
        "colab": {
          "base_uri": "https://localhost:8080/",
          "height": 236
        },
        "id": "kqUn7MzNG2Yq",
        "outputId": "2c87b5c0-7bd2-4f19-ef2d-714f1157e5d5"
      },
      "execution_count": 25,
      "outputs": [
        {
          "output_type": "error",
          "ename": "NameError",
          "evalue": "ignored",
          "traceback": [
            "\u001b[0;31m---------------------------------------------------------------------------\u001b[0m",
            "\u001b[0;31mNameError\u001b[0m                                 Traceback (most recent call last)",
            "\u001b[0;32m<ipython-input-25-8b5412a570a7>\u001b[0m in \u001b[0;36m<module>\u001b[0;34m()\u001b[0m\n\u001b[1;32m      1\u001b[0m \u001b[0;31m# Normalisation\u001b[0m\u001b[0;34m\u001b[0m\u001b[0;34m\u001b[0m\u001b[0;34m\u001b[0m\u001b[0m\n\u001b[1;32m      2\u001b[0m \u001b[0msc\u001b[0m \u001b[0;34m=\u001b[0m \u001b[0mMinMaxScaler\u001b[0m\u001b[0;34m(\u001b[0m\u001b[0;34m)\u001b[0m\u001b[0;34m\u001b[0m\u001b[0;34m\u001b[0m\u001b[0m\n\u001b[0;32m----> 3\u001b[0;31m \u001b[0mtrain\u001b[0m \u001b[0;34m=\u001b[0m \u001b[0msc\u001b[0m\u001b[0;34m.\u001b[0m\u001b[0mfit_transform\u001b[0m\u001b[0;34m(\u001b[0m\u001b[0mtrain_data\u001b[0m\u001b[0;34m)\u001b[0m\u001b[0;34m\u001b[0m\u001b[0;34m\u001b[0m\u001b[0m\n\u001b[0m\u001b[1;32m      4\u001b[0m \u001b[0mval\u001b[0m \u001b[0;34m=\u001b[0m \u001b[0msc\u001b[0m\u001b[0;34m.\u001b[0m\u001b[0mtransform\u001b[0m\u001b[0;34m(\u001b[0m\u001b[0mval_data\u001b[0m\u001b[0;34m)\u001b[0m\u001b[0;34m\u001b[0m\u001b[0;34m\u001b[0m\u001b[0m\n\u001b[1;32m      5\u001b[0m \u001b[0mtest\u001b[0m \u001b[0;34m=\u001b[0m \u001b[0msc\u001b[0m\u001b[0;34m.\u001b[0m\u001b[0mtransform\u001b[0m\u001b[0;34m(\u001b[0m\u001b[0mtest_data\u001b[0m\u001b[0;34m)\u001b[0m\u001b[0;34m\u001b[0m\u001b[0;34m\u001b[0m\u001b[0m\n",
            "\u001b[0;31mNameError\u001b[0m: name 'train_data' is not defined"
          ]
        }
      ]
    },
    {
      "cell_type": "code",
      "source": [
        "pip install bnlp"
      ],
      "metadata": {
        "colab": {
          "base_uri": "https://localhost:8080/"
        },
        "id": "uz42Z1anJmLO",
        "outputId": "6f77a373-4f42-4d08-ec8e-2202ded9fbbe"
      },
      "execution_count": 32,
      "outputs": [
        {
          "output_type": "stream",
          "name": "stdout",
          "text": [
            "Looking in indexes: https://pypi.org/simple, https://us-python.pkg.dev/colab-wheels/public/simple/\n",
            "Collecting bnlp\n",
            "  Downloading bnlp-0.8.tar.gz (25 kB)\n",
            "Building wheels for collected packages: bnlp\n",
            "  Building wheel for bnlp (setup.py) ... \u001b[?25l\u001b[?25hdone\n",
            "  Created wheel for bnlp: filename=bnlp-0.8-py3-none-any.whl size=32826 sha256=718110c8868b4ea67ec31ae5bf29967779610c6836668afa58d2df11bbece922\n",
            "  Stored in directory: /root/.cache/pip/wheels/09/e4/f9/548b582bf7e2e2aa4a6ad8f73e53c82aada38289954781004e\n",
            "Successfully built bnlp\n",
            "Installing collected packages: bnlp\n",
            "Successfully installed bnlp-0.8\n"
          ]
        }
      ]
    },
    {
      "cell_type": "code",
      "source": [
        "pip install bnlp_toolkit"
      ],
      "metadata": {
        "colab": {
          "base_uri": "https://localhost:8080/"
        },
        "id": "nP3uYUQHJ-nS",
        "outputId": "f4716212-3d8b-4113-cf23-c08d063371b3"
      },
      "execution_count": 34,
      "outputs": [
        {
          "output_type": "stream",
          "name": "stdout",
          "text": [
            "Looking in indexes: https://pypi.org/simple, https://us-python.pkg.dev/colab-wheels/public/simple/\n",
            "Collecting bnlp_toolkit\n",
            "  Downloading bnlp_toolkit-3.1.2-py3-none-any.whl (17 kB)\n",
            "Collecting sentencepiece\n",
            "  Downloading sentencepiece-0.1.97-cp37-cp37m-manylinux_2_17_x86_64.manylinux2014_x86_64.whl (1.3 MB)\n",
            "\u001b[K     |████████████████████████████████| 1.3 MB 13.5 MB/s \n",
            "\u001b[?25hRequirement already satisfied: numpy in /usr/local/lib/python3.7/dist-packages (from bnlp_toolkit) (1.21.6)\n",
            "Requirement already satisfied: nltk in /usr/local/lib/python3.7/dist-packages (from bnlp_toolkit) (3.7)\n",
            "Requirement already satisfied: scipy in /usr/local/lib/python3.7/dist-packages (from bnlp_toolkit) (1.7.3)\n",
            "Collecting gensim==4.0.1\n",
            "  Downloading gensim-4.0.1-cp37-cp37m-manylinux1_x86_64.whl (23.9 MB)\n",
            "\u001b[K     |████████████████████████████████| 23.9 MB 85.7 MB/s \n",
            "\u001b[?25hRequirement already satisfied: wasabi in /usr/local/lib/python3.7/dist-packages (from bnlp_toolkit) (0.10.1)\n",
            "Collecting sklearn-crfsuite\n",
            "  Downloading sklearn_crfsuite-0.3.6-py2.py3-none-any.whl (12 kB)\n",
            "Requirement already satisfied: smart-open>=1.8.1 in /usr/local/lib/python3.7/dist-packages (from gensim==4.0.1->bnlp_toolkit) (5.2.1)\n",
            "Requirement already satisfied: click in /usr/local/lib/python3.7/dist-packages (from nltk->bnlp_toolkit) (7.1.2)\n",
            "Requirement already satisfied: joblib in /usr/local/lib/python3.7/dist-packages (from nltk->bnlp_toolkit) (1.1.0)\n",
            "Requirement already satisfied: tqdm in /usr/local/lib/python3.7/dist-packages (from nltk->bnlp_toolkit) (4.64.0)\n",
            "Requirement already satisfied: regex>=2021.8.3 in /usr/local/lib/python3.7/dist-packages (from nltk->bnlp_toolkit) (2022.6.2)\n",
            "Requirement already satisfied: tabulate in /usr/local/lib/python3.7/dist-packages (from sklearn-crfsuite->bnlp_toolkit) (0.8.10)\n",
            "Collecting python-crfsuite>=0.8.3\n",
            "  Downloading python_crfsuite-0.9.8-cp37-cp37m-manylinux_2_17_x86_64.manylinux2014_x86_64.whl (965 kB)\n",
            "\u001b[K     |████████████████████████████████| 965 kB 45.3 MB/s \n",
            "\u001b[?25hRequirement already satisfied: six in /usr/local/lib/python3.7/dist-packages (from sklearn-crfsuite->bnlp_toolkit) (1.15.0)\n",
            "Installing collected packages: python-crfsuite, sklearn-crfsuite, sentencepiece, gensim, bnlp-toolkit\n",
            "  Attempting uninstall: gensim\n",
            "    Found existing installation: gensim 3.6.0\n",
            "    Uninstalling gensim-3.6.0:\n",
            "      Successfully uninstalled gensim-3.6.0\n",
            "Successfully installed bnlp-toolkit-3.1.2 gensim-4.0.1 python-crfsuite-0.9.8 sentencepiece-0.1.97 sklearn-crfsuite-0.3.6\n"
          ]
        }
      ]
    },
    {
      "cell_type": "code",
      "source": [
        "import string \n",
        "import seaborn as sns\n",
        "from plotly.offline import download_plotlyjs,init_notebook_mode,plot,iplot\n",
        "%matplotlib inline\n",
        "import numpy as np\n",
        "import pandas as pd\n",
        "import matplotlib.pyplot as plt\n",
        "%matplotlib inline\n",
        "import re\n",
        "import nltk\n",
        "from nltk.stem import PorterStemmer\n",
        "from nltk.sentiment.vader import SentimentIntensityAnalyzer\n",
        "from sklearn.metrics import accuracy_score,classification_report,confusion_matrix\n",
        "from sklearn.feature_extraction.text import CountVectorizer\n",
        "from sklearn.feature_extraction.text import TfidfTransformer\n",
        "from sklearn.pipeline import Pipeline\n",
        "from sklearn.model_selection import train_test_split\n",
        "from sklearn.feature_extraction.text import TfidfVectorizer\n",
        "from sklearn.svm import LinearSVC\n",
        "from sklearn import metrics\n",
        "from sklearn.ensemble import RandomForestClassifier\n",
        "from sklearn.naive_bayes import MultinomialNB\n",
        "from sklearn.linear_model import LogisticRegression\n",
        "from sklearn.svm import SVC\n",
        "from sklearn import tree\n",
        "import warnings\n",
        "warnings.filterwarnings(\"ignore\")\n",
        "from os import path\n",
        "from PIL import Image\n",
        "from wordcloud import WordCloud, STOPWORDS, ImageColorGenerator\n",
        "import pandas as pd\n",
        "import io\n",
        "from bnlp import BasicTokenizer\n",
        "from bnlp.corpus import stopwords, punctuations, letters, digits\n",
        "from bnlp.corpus.util import remove_stopwords"
      ],
      "metadata": {
        "colab": {
          "base_uri": "https://localhost:8080/"
        },
        "id": "MH7cilHRJiS_",
        "outputId": "c361bf8c-ae7f-4e28-d350-a62c53d3e977"
      },
      "execution_count": 35,
      "outputs": [
        {
          "output_type": "stream",
          "name": "stdout",
          "text": [
            "punkt not found. downloading...\n"
          ]
        },
        {
          "output_type": "stream",
          "name": "stderr",
          "text": [
            "[nltk_data] Downloading package punkt to /root/nltk_data...\n",
            "[nltk_data]   Unzipping tokenizers/punkt.zip.\n"
          ]
        }
      ]
    },
    {
      "cell_type": "code",
      "source": [
        "rstate = 10"
      ],
      "metadata": {
        "id": "tio93D9oKEUZ"
      },
      "execution_count": 36,
      "outputs": []
    },
    {
      "cell_type": "code",
      "source": [
        "df = pd.read_csv(\"/content/DataSet-Final.csv\")\n",
        "df.sample(frac=1)"
      ],
      "metadata": {
        "colab": {
          "base_uri": "https://localhost:8080/",
          "height": 424
        },
        "id": "F5SNSiF9KLBy",
        "outputId": "ab61a4b8-e5f0-4f4b-b6db-1e6b8bb6e42b"
      },
      "execution_count": 37,
      "outputs": [
        {
          "output_type": "execute_result",
          "data": {
            "text/plain": [
              "                                                   text             label\n",
              "4595  ভারত যেন বাংলাদেশের কোনো ব্যাপারে নাক না গলা, ...  Geopoitical Hate\n",
              "2977                   পাকির দালল গুলারে জুতা মারা উচিত      Geopolitical\n",
              "4356  হেরেছে গণমানুষের চাওয়া জিতেছে হাসিনা এটা একটি...  Political Normal\n",
              "1375  সালের যুদ্ধে বাংলাদেশ থেকে যেই শরনার্থী শিবির ...      Geopolitical\n",
              "372               দেশটা রাজাকারে ভরতি হয়ে গেল রে আফসোস          Political\n",
              "...                                                 ...               ...\n",
              "2895  ওর দুধ আর পাচা দেখেত আমার সোনা খারা হয়ে গেছে  ...    Gender abusive\n",
              "2763           সনিকা তুমি চুদা খেতে পাড় আমরা বল্লে ধুস           Personal\n",
              "905   পাকিস্তান একটা আতঙ্ক বাদি দেশ ও সব দেশেই আতঙ্ক...      Geopolitical\n",
              "3980  সাজু হালারে কেও ধইরা (তেরে নাম) এর পাগলা গারদ ...     Personal Hate\n",
              "235                              আপু ভুূদা চুইতে কী হয়     Gender abusive\n",
              "\n",
              "[4983 rows x 2 columns]"
            ],
            "text/html": [
              "\n",
              "  <div id=\"df-7002d611-00de-4bb7-9f24-73bb6197de12\">\n",
              "    <div class=\"colab-df-container\">\n",
              "      <div>\n",
              "<style scoped>\n",
              "    .dataframe tbody tr th:only-of-type {\n",
              "        vertical-align: middle;\n",
              "    }\n",
              "\n",
              "    .dataframe tbody tr th {\n",
              "        vertical-align: top;\n",
              "    }\n",
              "\n",
              "    .dataframe thead th {\n",
              "        text-align: right;\n",
              "    }\n",
              "</style>\n",
              "<table border=\"1\" class=\"dataframe\">\n",
              "  <thead>\n",
              "    <tr style=\"text-align: right;\">\n",
              "      <th></th>\n",
              "      <th>text</th>\n",
              "      <th>label</th>\n",
              "    </tr>\n",
              "  </thead>\n",
              "  <tbody>\n",
              "    <tr>\n",
              "      <th>4595</th>\n",
              "      <td>ভারত যেন বাংলাদেশের কোনো ব্যাপারে নাক না গলা, ...</td>\n",
              "      <td>Geopoitical Hate</td>\n",
              "    </tr>\n",
              "    <tr>\n",
              "      <th>2977</th>\n",
              "      <td>পাকির দালল গুলারে জুতা মারা উচিত</td>\n",
              "      <td>Geopolitical</td>\n",
              "    </tr>\n",
              "    <tr>\n",
              "      <th>4356</th>\n",
              "      <td>হেরেছে গণমানুষের চাওয়া জিতেছে হাসিনা এটা একটি...</td>\n",
              "      <td>Political Normal</td>\n",
              "    </tr>\n",
              "    <tr>\n",
              "      <th>1375</th>\n",
              "      <td>সালের যুদ্ধে বাংলাদেশ থেকে যেই শরনার্থী শিবির ...</td>\n",
              "      <td>Geopolitical</td>\n",
              "    </tr>\n",
              "    <tr>\n",
              "      <th>372</th>\n",
              "      <td>দেশটা রাজাকারে ভরতি হয়ে গেল রে আফসোস</td>\n",
              "      <td>Political</td>\n",
              "    </tr>\n",
              "    <tr>\n",
              "      <th>...</th>\n",
              "      <td>...</td>\n",
              "      <td>...</td>\n",
              "    </tr>\n",
              "    <tr>\n",
              "      <th>2895</th>\n",
              "      <td>ওর দুধ আর পাচা দেখেত আমার সোনা খারা হয়ে গেছে  ...</td>\n",
              "      <td>Gender abusive</td>\n",
              "    </tr>\n",
              "    <tr>\n",
              "      <th>2763</th>\n",
              "      <td>সনিকা তুমি চুদা খেতে পাড় আমরা বল্লে ধুস</td>\n",
              "      <td>Personal</td>\n",
              "    </tr>\n",
              "    <tr>\n",
              "      <th>905</th>\n",
              "      <td>পাকিস্তান একটা আতঙ্ক বাদি দেশ ও সব দেশেই আতঙ্ক...</td>\n",
              "      <td>Geopolitical</td>\n",
              "    </tr>\n",
              "    <tr>\n",
              "      <th>3980</th>\n",
              "      <td>সাজু হালারে কেও ধইরা (তেরে নাম) এর পাগলা গারদ ...</td>\n",
              "      <td>Personal Hate</td>\n",
              "    </tr>\n",
              "    <tr>\n",
              "      <th>235</th>\n",
              "      <td>আপু ভুূদা চুইতে কী হয়</td>\n",
              "      <td>Gender abusive</td>\n",
              "    </tr>\n",
              "  </tbody>\n",
              "</table>\n",
              "<p>4983 rows × 2 columns</p>\n",
              "</div>\n",
              "      <button class=\"colab-df-convert\" onclick=\"convertToInteractive('df-7002d611-00de-4bb7-9f24-73bb6197de12')\"\n",
              "              title=\"Convert this dataframe to an interactive table.\"\n",
              "              style=\"display:none;\">\n",
              "        \n",
              "  <svg xmlns=\"http://www.w3.org/2000/svg\" height=\"24px\"viewBox=\"0 0 24 24\"\n",
              "       width=\"24px\">\n",
              "    <path d=\"M0 0h24v24H0V0z\" fill=\"none\"/>\n",
              "    <path d=\"M18.56 5.44l.94 2.06.94-2.06 2.06-.94-2.06-.94-.94-2.06-.94 2.06-2.06.94zm-11 1L8.5 8.5l.94-2.06 2.06-.94-2.06-.94L8.5 2.5l-.94 2.06-2.06.94zm10 10l.94 2.06.94-2.06 2.06-.94-2.06-.94-.94-2.06-.94 2.06-2.06.94z\"/><path d=\"M17.41 7.96l-1.37-1.37c-.4-.4-.92-.59-1.43-.59-.52 0-1.04.2-1.43.59L10.3 9.45l-7.72 7.72c-.78.78-.78 2.05 0 2.83L4 21.41c.39.39.9.59 1.41.59.51 0 1.02-.2 1.41-.59l7.78-7.78 2.81-2.81c.8-.78.8-2.07 0-2.86zM5.41 20L4 18.59l7.72-7.72 1.47 1.35L5.41 20z\"/>\n",
              "  </svg>\n",
              "      </button>\n",
              "      \n",
              "  <style>\n",
              "    .colab-df-container {\n",
              "      display:flex;\n",
              "      flex-wrap:wrap;\n",
              "      gap: 12px;\n",
              "    }\n",
              "\n",
              "    .colab-df-convert {\n",
              "      background-color: #E8F0FE;\n",
              "      border: none;\n",
              "      border-radius: 50%;\n",
              "      cursor: pointer;\n",
              "      display: none;\n",
              "      fill: #1967D2;\n",
              "      height: 32px;\n",
              "      padding: 0 0 0 0;\n",
              "      width: 32px;\n",
              "    }\n",
              "\n",
              "    .colab-df-convert:hover {\n",
              "      background-color: #E2EBFA;\n",
              "      box-shadow: 0px 1px 2px rgba(60, 64, 67, 0.3), 0px 1px 3px 1px rgba(60, 64, 67, 0.15);\n",
              "      fill: #174EA6;\n",
              "    }\n",
              "\n",
              "    [theme=dark] .colab-df-convert {\n",
              "      background-color: #3B4455;\n",
              "      fill: #D2E3FC;\n",
              "    }\n",
              "\n",
              "    [theme=dark] .colab-df-convert:hover {\n",
              "      background-color: #434B5C;\n",
              "      box-shadow: 0px 1px 3px 1px rgba(0, 0, 0, 0.15);\n",
              "      filter: drop-shadow(0px 1px 2px rgba(0, 0, 0, 0.3));\n",
              "      fill: #FFFFFF;\n",
              "    }\n",
              "  </style>\n",
              "\n",
              "      <script>\n",
              "        const buttonEl =\n",
              "          document.querySelector('#df-7002d611-00de-4bb7-9f24-73bb6197de12 button.colab-df-convert');\n",
              "        buttonEl.style.display =\n",
              "          google.colab.kernel.accessAllowed ? 'block' : 'none';\n",
              "\n",
              "        async function convertToInteractive(key) {\n",
              "          const element = document.querySelector('#df-7002d611-00de-4bb7-9f24-73bb6197de12');\n",
              "          const dataTable =\n",
              "            await google.colab.kernel.invokeFunction('convertToInteractive',\n",
              "                                                     [key], {});\n",
              "          if (!dataTable) return;\n",
              "\n",
              "          const docLinkHtml = 'Like what you see? Visit the ' +\n",
              "            '<a target=\"_blank\" href=https://colab.research.google.com/notebooks/data_table.ipynb>data table notebook</a>'\n",
              "            + ' to learn more about interactive tables.';\n",
              "          element.innerHTML = '';\n",
              "          dataTable['output_type'] = 'display_data';\n",
              "          await google.colab.output.renderOutput(dataTable, element);\n",
              "          const docLink = document.createElement('div');\n",
              "          docLink.innerHTML = docLinkHtml;\n",
              "          element.appendChild(docLink);\n",
              "        }\n",
              "      </script>\n",
              "    </div>\n",
              "  </div>\n",
              "  "
            ]
          },
          "metadata": {},
          "execution_count": 37
        }
      ]
    },
    {
      "cell_type": "code",
      "source": [
        "df.rename(columns = {'text':'texts'}, inplace = True)\n",
        "df.sample(frac=1)"
      ],
      "metadata": {
        "colab": {
          "base_uri": "https://localhost:8080/",
          "height": 424
        },
        "id": "1yBgce0OKP-B",
        "outputId": "a5a8823a-48d5-4b58-f007-149351c01295"
      },
      "execution_count": 38,
      "outputs": [
        {
          "output_type": "execute_result",
          "data": {
            "text/plain": [
              "                                                  texts             label\n",
              "190   শূন্যের আবিষ্কার ও একজন মালাউনের  আয়ুর্বেদ এই...         Religious\n",
              "3523                                        কুত্তার হোল     Personal Hate\n",
              "838                              শালিরে কচুদেও ভোদায়       Gender abusive\n",
              "4125             ওটা নাকি দেশ নায়ক লন্ডনে বসে সালা চুর     Political Hate\n",
              "1643     কানকির পোলারা ৭১ জন্য এখন পর্যন্ত ক্ষমা চায়নি       Geopolitical\n",
              "...                                                 ...               ...\n",
              "4024         এটা হচ্ছে মাহির এবং সরকারের আরেকটা চাইল ।     Political Hate\n",
              "1398                   মাহিরে চুদার সময় আছে বাঙালির             Political\n",
              "3083  রোহিংগার জাত লাথি মারেন তাই না  সালে ভারত যদি ...      Geopolitical\n",
              "4739                             পাকিস্তান কে  ঘৃনা করি  Geopoitical Hate\n",
              "1482   কুত্তার বাচ্চা বাবা নামে কলঙ্ক  ওকে ফাসিতে ঝু...          Personal\n",
              "\n",
              "[4983 rows x 2 columns]"
            ],
            "text/html": [
              "\n",
              "  <div id=\"df-f20b1825-1e82-4a64-88dc-ca6f23883a48\">\n",
              "    <div class=\"colab-df-container\">\n",
              "      <div>\n",
              "<style scoped>\n",
              "    .dataframe tbody tr th:only-of-type {\n",
              "        vertical-align: middle;\n",
              "    }\n",
              "\n",
              "    .dataframe tbody tr th {\n",
              "        vertical-align: top;\n",
              "    }\n",
              "\n",
              "    .dataframe thead th {\n",
              "        text-align: right;\n",
              "    }\n",
              "</style>\n",
              "<table border=\"1\" class=\"dataframe\">\n",
              "  <thead>\n",
              "    <tr style=\"text-align: right;\">\n",
              "      <th></th>\n",
              "      <th>texts</th>\n",
              "      <th>label</th>\n",
              "    </tr>\n",
              "  </thead>\n",
              "  <tbody>\n",
              "    <tr>\n",
              "      <th>190</th>\n",
              "      <td>শূন্যের আবিষ্কার ও একজন মালাউনের  আয়ুর্বেদ এই...</td>\n",
              "      <td>Religious</td>\n",
              "    </tr>\n",
              "    <tr>\n",
              "      <th>3523</th>\n",
              "      <td>কুত্তার হোল</td>\n",
              "      <td>Personal Hate</td>\n",
              "    </tr>\n",
              "    <tr>\n",
              "      <th>838</th>\n",
              "      <td>শালিরে কচুদেও ভোদায়</td>\n",
              "      <td>Gender abusive</td>\n",
              "    </tr>\n",
              "    <tr>\n",
              "      <th>4125</th>\n",
              "      <td>ওটা নাকি দেশ নায়ক লন্ডনে বসে সালা চুর</td>\n",
              "      <td>Political Hate</td>\n",
              "    </tr>\n",
              "    <tr>\n",
              "      <th>1643</th>\n",
              "      <td>কানকির পোলারা ৭১ জন্য এখন পর্যন্ত ক্ষমা চায়নি</td>\n",
              "      <td>Geopolitical</td>\n",
              "    </tr>\n",
              "    <tr>\n",
              "      <th>...</th>\n",
              "      <td>...</td>\n",
              "      <td>...</td>\n",
              "    </tr>\n",
              "    <tr>\n",
              "      <th>4024</th>\n",
              "      <td>এটা হচ্ছে মাহির এবং সরকারের আরেকটা চাইল ।</td>\n",
              "      <td>Political Hate</td>\n",
              "    </tr>\n",
              "    <tr>\n",
              "      <th>1398</th>\n",
              "      <td>মাহিরে চুদার সময় আছে বাঙালির</td>\n",
              "      <td>Political</td>\n",
              "    </tr>\n",
              "    <tr>\n",
              "      <th>3083</th>\n",
              "      <td>রোহিংগার জাত লাথি মারেন তাই না  সালে ভারত যদি ...</td>\n",
              "      <td>Geopolitical</td>\n",
              "    </tr>\n",
              "    <tr>\n",
              "      <th>4739</th>\n",
              "      <td>পাকিস্তান কে  ঘৃনা করি</td>\n",
              "      <td>Geopoitical Hate</td>\n",
              "    </tr>\n",
              "    <tr>\n",
              "      <th>1482</th>\n",
              "      <td>কুত্তার বাচ্চা বাবা নামে কলঙ্ক  ওকে ফাসিতে ঝু...</td>\n",
              "      <td>Personal</td>\n",
              "    </tr>\n",
              "  </tbody>\n",
              "</table>\n",
              "<p>4983 rows × 2 columns</p>\n",
              "</div>\n",
              "      <button class=\"colab-df-convert\" onclick=\"convertToInteractive('df-f20b1825-1e82-4a64-88dc-ca6f23883a48')\"\n",
              "              title=\"Convert this dataframe to an interactive table.\"\n",
              "              style=\"display:none;\">\n",
              "        \n",
              "  <svg xmlns=\"http://www.w3.org/2000/svg\" height=\"24px\"viewBox=\"0 0 24 24\"\n",
              "       width=\"24px\">\n",
              "    <path d=\"M0 0h24v24H0V0z\" fill=\"none\"/>\n",
              "    <path d=\"M18.56 5.44l.94 2.06.94-2.06 2.06-.94-2.06-.94-.94-2.06-.94 2.06-2.06.94zm-11 1L8.5 8.5l.94-2.06 2.06-.94-2.06-.94L8.5 2.5l-.94 2.06-2.06.94zm10 10l.94 2.06.94-2.06 2.06-.94-2.06-.94-.94-2.06-.94 2.06-2.06.94z\"/><path d=\"M17.41 7.96l-1.37-1.37c-.4-.4-.92-.59-1.43-.59-.52 0-1.04.2-1.43.59L10.3 9.45l-7.72 7.72c-.78.78-.78 2.05 0 2.83L4 21.41c.39.39.9.59 1.41.59.51 0 1.02-.2 1.41-.59l7.78-7.78 2.81-2.81c.8-.78.8-2.07 0-2.86zM5.41 20L4 18.59l7.72-7.72 1.47 1.35L5.41 20z\"/>\n",
              "  </svg>\n",
              "      </button>\n",
              "      \n",
              "  <style>\n",
              "    .colab-df-container {\n",
              "      display:flex;\n",
              "      flex-wrap:wrap;\n",
              "      gap: 12px;\n",
              "    }\n",
              "\n",
              "    .colab-df-convert {\n",
              "      background-color: #E8F0FE;\n",
              "      border: none;\n",
              "      border-radius: 50%;\n",
              "      cursor: pointer;\n",
              "      display: none;\n",
              "      fill: #1967D2;\n",
              "      height: 32px;\n",
              "      padding: 0 0 0 0;\n",
              "      width: 32px;\n",
              "    }\n",
              "\n",
              "    .colab-df-convert:hover {\n",
              "      background-color: #E2EBFA;\n",
              "      box-shadow: 0px 1px 2px rgba(60, 64, 67, 0.3), 0px 1px 3px 1px rgba(60, 64, 67, 0.15);\n",
              "      fill: #174EA6;\n",
              "    }\n",
              "\n",
              "    [theme=dark] .colab-df-convert {\n",
              "      background-color: #3B4455;\n",
              "      fill: #D2E3FC;\n",
              "    }\n",
              "\n",
              "    [theme=dark] .colab-df-convert:hover {\n",
              "      background-color: #434B5C;\n",
              "      box-shadow: 0px 1px 3px 1px rgba(0, 0, 0, 0.15);\n",
              "      filter: drop-shadow(0px 1px 2px rgba(0, 0, 0, 0.3));\n",
              "      fill: #FFFFFF;\n",
              "    }\n",
              "  </style>\n",
              "\n",
              "      <script>\n",
              "        const buttonEl =\n",
              "          document.querySelector('#df-f20b1825-1e82-4a64-88dc-ca6f23883a48 button.colab-df-convert');\n",
              "        buttonEl.style.display =\n",
              "          google.colab.kernel.accessAllowed ? 'block' : 'none';\n",
              "\n",
              "        async function convertToInteractive(key) {\n",
              "          const element = document.querySelector('#df-f20b1825-1e82-4a64-88dc-ca6f23883a48');\n",
              "          const dataTable =\n",
              "            await google.colab.kernel.invokeFunction('convertToInteractive',\n",
              "                                                     [key], {});\n",
              "          if (!dataTable) return;\n",
              "\n",
              "          const docLinkHtml = 'Like what you see? Visit the ' +\n",
              "            '<a target=\"_blank\" href=https://colab.research.google.com/notebooks/data_table.ipynb>data table notebook</a>'\n",
              "            + ' to learn more about interactive tables.';\n",
              "          element.innerHTML = '';\n",
              "          dataTable['output_type'] = 'display_data';\n",
              "          await google.colab.output.renderOutput(dataTable, element);\n",
              "          const docLink = document.createElement('div');\n",
              "          docLink.innerHTML = docLinkHtml;\n",
              "          element.appendChild(docLink);\n",
              "        }\n",
              "      </script>\n",
              "    </div>\n",
              "  </div>\n",
              "  "
            ]
          },
          "metadata": {},
          "execution_count": 38
        }
      ]
    },
    {
      "cell_type": "code",
      "source": [
        "df['label'].value_counts()"
      ],
      "metadata": {
        "colab": {
          "base_uri": "https://localhost:8080/"
        },
        "id": "L-lmGjn7Kkzy",
        "outputId": "f30c3a99-5839-436f-fb6e-5b4eb8666710"
      },
      "execution_count": 39,
      "outputs": [
        {
          "output_type": "execute_result",
          "data": {
            "text/plain": [
              "Geopolitical           1379\n",
              "Personal                629\n",
              "Political               592\n",
              "Personal Hate           531\n",
              "Religious               502\n",
              "Gender abusive          316\n",
              "Political Hate          200\n",
              "Political Normal        200\n",
              "Religious Hate          200\n",
              "Geopoitical Hate        200\n",
              "Gender abusive hate     200\n",
              "Gender Abusive           30\n",
              "Abusive                   3\n",
              "Political                 1\n",
              "Name: label, dtype: int64"
            ]
          },
          "metadata": {},
          "execution_count": 39
        }
      ]
    },
    {
      "cell_type": "code",
      "source": [
        "string.punctuation"
      ],
      "metadata": {
        "colab": {
          "base_uri": "https://localhost:8080/",
          "height": 35
        },
        "id": "SiqTAKs6KrXB",
        "outputId": "92a107e0-1480-4324-d102-f1088541ea3a"
      },
      "execution_count": 40,
      "outputs": [
        {
          "output_type": "execute_result",
          "data": {
            "text/plain": [
              "'!\"#$%&\\'()*+,-./:;<=>?@[\\\\]^_`{|}~'"
            ],
            "application/vnd.google.colaboratory.intrinsic+json": {
              "type": "string"
            }
          },
          "metadata": {},
          "execution_count": 40
        }
      ]
    },
    {
      "cell_type": "code",
      "source": [
        "string.punctuation"
      ],
      "metadata": {
        "colab": {
          "base_uri": "https://localhost:8080/",
          "height": 35
        },
        "id": "t6zflL6WK29K",
        "outputId": "7eb504e1-7f7c-4f26-b335-cf3f8b25aec8"
      },
      "execution_count": 41,
      "outputs": [
        {
          "output_type": "execute_result",
          "data": {
            "text/plain": [
              "'!\"#$%&\\'()*+,-./:;<=>?@[\\\\]^_`{|}~'"
            ],
            "application/vnd.google.colaboratory.intrinsic+json": {
              "type": "string"
            }
          },
          "metadata": {},
          "execution_count": 41
        }
      ]
    },
    {
      "cell_type": "code",
      "source": [
        "def remove_punctuation(txt):\n",
        "    txt_nopunct = \"\".join([c for c in txt if c not in string.punctuation])\n",
        "    return txt_nopunct"
      ],
      "metadata": {
        "id": "IBUyi7zTK7yR"
      },
      "execution_count": 42,
      "outputs": []
    },
    {
      "cell_type": "code",
      "source": [
        "df['msg_clean'] = df['texts'].apply(lambda x:remove_punctuation(x))\n",
        "df.head()"
      ],
      "metadata": {
        "colab": {
          "base_uri": "https://localhost:8080/",
          "height": 206
        },
        "id": "g_bTike5LCYC",
        "outputId": "d75d39d3-0c54-4ed1-a04f-280cb9c4b100"
      },
      "execution_count": 44,
      "outputs": [
        {
          "output_type": "execute_result",
          "data": {
            "text/plain": [
              "                                               texts         label  \\\n",
              "0  ইনিই হচ্ছেন ভারতের প্রতিরক্ষামন্ত্রী মনোহর পা...  Geopolitical   \n",
              "1    রেন্ডিয়াকে পৃথীবির মানচিএ থেকে মুচে ফেলতে হবে    Geopolitical   \n",
              "2  এই মালাউনরা বাংগালিদের সাফল্য দেখে হিংসা করে ব...     Religious   \n",
              "3                         আমরা বলতে কারা ভারত তাইতো   Geopolitical   \n",
              "4                                পাকিস্তান আমার বাল   Geopolitical   \n",
              "\n",
              "                                           msg_clean  \n",
              "0  ইনিই হচ্ছেন ভারতের প্রতিরক্ষামন্ত্রী মনোহর পা...  \n",
              "1    রেন্ডিয়াকে পৃথীবির মানচিএ থেকে মুচে ফেলতে হবে    \n",
              "2  এই মালাউনরা বাংগালিদের সাফল্য দেখে হিংসা করে ব...  \n",
              "3                         আমরা বলতে কারা ভারত তাইতো   \n",
              "4                                পাকিস্তান আমার বাল   "
            ],
            "text/html": [
              "\n",
              "  <div id=\"df-8ee51eeb-7880-4a02-ac61-d0f8df72ea96\">\n",
              "    <div class=\"colab-df-container\">\n",
              "      <div>\n",
              "<style scoped>\n",
              "    .dataframe tbody tr th:only-of-type {\n",
              "        vertical-align: middle;\n",
              "    }\n",
              "\n",
              "    .dataframe tbody tr th {\n",
              "        vertical-align: top;\n",
              "    }\n",
              "\n",
              "    .dataframe thead th {\n",
              "        text-align: right;\n",
              "    }\n",
              "</style>\n",
              "<table border=\"1\" class=\"dataframe\">\n",
              "  <thead>\n",
              "    <tr style=\"text-align: right;\">\n",
              "      <th></th>\n",
              "      <th>texts</th>\n",
              "      <th>label</th>\n",
              "      <th>msg_clean</th>\n",
              "    </tr>\n",
              "  </thead>\n",
              "  <tbody>\n",
              "    <tr>\n",
              "      <th>0</th>\n",
              "      <td>ইনিই হচ্ছেন ভারতের প্রতিরক্ষামন্ত্রী মনোহর পা...</td>\n",
              "      <td>Geopolitical</td>\n",
              "      <td>ইনিই হচ্ছেন ভারতের প্রতিরক্ষামন্ত্রী মনোহর পা...</td>\n",
              "    </tr>\n",
              "    <tr>\n",
              "      <th>1</th>\n",
              "      <td>রেন্ডিয়াকে পৃথীবির মানচিএ থেকে মুচে ফেলতে হবে</td>\n",
              "      <td>Geopolitical</td>\n",
              "      <td>রেন্ডিয়াকে পৃথীবির মানচিএ থেকে মুচে ফেলতে হবে</td>\n",
              "    </tr>\n",
              "    <tr>\n",
              "      <th>2</th>\n",
              "      <td>এই মালাউনরা বাংগালিদের সাফল্য দেখে হিংসা করে ব...</td>\n",
              "      <td>Religious</td>\n",
              "      <td>এই মালাউনরা বাংগালিদের সাফল্য দেখে হিংসা করে ব...</td>\n",
              "    </tr>\n",
              "    <tr>\n",
              "      <th>3</th>\n",
              "      <td>আমরা বলতে কারা ভারত তাইতো</td>\n",
              "      <td>Geopolitical</td>\n",
              "      <td>আমরা বলতে কারা ভারত তাইতো</td>\n",
              "    </tr>\n",
              "    <tr>\n",
              "      <th>4</th>\n",
              "      <td>পাকিস্তান আমার বাল</td>\n",
              "      <td>Geopolitical</td>\n",
              "      <td>পাকিস্তান আমার বাল</td>\n",
              "    </tr>\n",
              "  </tbody>\n",
              "</table>\n",
              "</div>\n",
              "      <button class=\"colab-df-convert\" onclick=\"convertToInteractive('df-8ee51eeb-7880-4a02-ac61-d0f8df72ea96')\"\n",
              "              title=\"Convert this dataframe to an interactive table.\"\n",
              "              style=\"display:none;\">\n",
              "        \n",
              "  <svg xmlns=\"http://www.w3.org/2000/svg\" height=\"24px\"viewBox=\"0 0 24 24\"\n",
              "       width=\"24px\">\n",
              "    <path d=\"M0 0h24v24H0V0z\" fill=\"none\"/>\n",
              "    <path d=\"M18.56 5.44l.94 2.06.94-2.06 2.06-.94-2.06-.94-.94-2.06-.94 2.06-2.06.94zm-11 1L8.5 8.5l.94-2.06 2.06-.94-2.06-.94L8.5 2.5l-.94 2.06-2.06.94zm10 10l.94 2.06.94-2.06 2.06-.94-2.06-.94-.94-2.06-.94 2.06-2.06.94z\"/><path d=\"M17.41 7.96l-1.37-1.37c-.4-.4-.92-.59-1.43-.59-.52 0-1.04.2-1.43.59L10.3 9.45l-7.72 7.72c-.78.78-.78 2.05 0 2.83L4 21.41c.39.39.9.59 1.41.59.51 0 1.02-.2 1.41-.59l7.78-7.78 2.81-2.81c.8-.78.8-2.07 0-2.86zM5.41 20L4 18.59l7.72-7.72 1.47 1.35L5.41 20z\"/>\n",
              "  </svg>\n",
              "      </button>\n",
              "      \n",
              "  <style>\n",
              "    .colab-df-container {\n",
              "      display:flex;\n",
              "      flex-wrap:wrap;\n",
              "      gap: 12px;\n",
              "    }\n",
              "\n",
              "    .colab-df-convert {\n",
              "      background-color: #E8F0FE;\n",
              "      border: none;\n",
              "      border-radius: 50%;\n",
              "      cursor: pointer;\n",
              "      display: none;\n",
              "      fill: #1967D2;\n",
              "      height: 32px;\n",
              "      padding: 0 0 0 0;\n",
              "      width: 32px;\n",
              "    }\n",
              "\n",
              "    .colab-df-convert:hover {\n",
              "      background-color: #E2EBFA;\n",
              "      box-shadow: 0px 1px 2px rgba(60, 64, 67, 0.3), 0px 1px 3px 1px rgba(60, 64, 67, 0.15);\n",
              "      fill: #174EA6;\n",
              "    }\n",
              "\n",
              "    [theme=dark] .colab-df-convert {\n",
              "      background-color: #3B4455;\n",
              "      fill: #D2E3FC;\n",
              "    }\n",
              "\n",
              "    [theme=dark] .colab-df-convert:hover {\n",
              "      background-color: #434B5C;\n",
              "      box-shadow: 0px 1px 3px 1px rgba(0, 0, 0, 0.15);\n",
              "      filter: drop-shadow(0px 1px 2px rgba(0, 0, 0, 0.3));\n",
              "      fill: #FFFFFF;\n",
              "    }\n",
              "  </style>\n",
              "\n",
              "      <script>\n",
              "        const buttonEl =\n",
              "          document.querySelector('#df-8ee51eeb-7880-4a02-ac61-d0f8df72ea96 button.colab-df-convert');\n",
              "        buttonEl.style.display =\n",
              "          google.colab.kernel.accessAllowed ? 'block' : 'none';\n",
              "\n",
              "        async function convertToInteractive(key) {\n",
              "          const element = document.querySelector('#df-8ee51eeb-7880-4a02-ac61-d0f8df72ea96');\n",
              "          const dataTable =\n",
              "            await google.colab.kernel.invokeFunction('convertToInteractive',\n",
              "                                                     [key], {});\n",
              "          if (!dataTable) return;\n",
              "\n",
              "          const docLinkHtml = 'Like what you see? Visit the ' +\n",
              "            '<a target=\"_blank\" href=https://colab.research.google.com/notebooks/data_table.ipynb>data table notebook</a>'\n",
              "            + ' to learn more about interactive tables.';\n",
              "          element.innerHTML = '';\n",
              "          dataTable['output_type'] = 'display_data';\n",
              "          await google.colab.output.renderOutput(dataTable, element);\n",
              "          const docLink = document.createElement('div');\n",
              "          docLink.innerHTML = docLinkHtml;\n",
              "          element.appendChild(docLink);\n",
              "        }\n",
              "      </script>\n",
              "    </div>\n",
              "  </div>\n",
              "  "
            ]
          },
          "metadata": {},
          "execution_count": 44
        }
      ]
    },
    {
      "cell_type": "code",
      "source": [
        "basic_tokenizer = BasicTokenizer()\n",
        "df['tokenized'] = df['msg_clean'].apply(lambda x: basic_tokenizer.tokenize(x))"
      ],
      "metadata": {
        "id": "SBSrCaN0LMtK"
      },
      "execution_count": 45,
      "outputs": []
    },
    {
      "cell_type": "code",
      "source": [
        "df.head()"
      ],
      "metadata": {
        "colab": {
          "base_uri": "https://localhost:8080/",
          "height": 206
        },
        "id": "7o0AI5oZLOda",
        "outputId": "aad8db58-c9dc-46c0-ee11-4f9b0f3bc136"
      },
      "execution_count": 46,
      "outputs": [
        {
          "output_type": "execute_result",
          "data": {
            "text/plain": [
              "                                               texts         label  \\\n",
              "0  ইনিই হচ্ছেন ভারতের প্রতিরক্ষামন্ত্রী মনোহর পা...  Geopolitical   \n",
              "1    রেন্ডিয়াকে পৃথীবির মানচিএ থেকে মুচে ফেলতে হবে    Geopolitical   \n",
              "2  এই মালাউনরা বাংগালিদের সাফল্য দেখে হিংসা করে ব...     Religious   \n",
              "3                         আমরা বলতে কারা ভারত তাইতো   Geopolitical   \n",
              "4                                পাকিস্তান আমার বাল   Geopolitical   \n",
              "\n",
              "                                           msg_clean  \\\n",
              "0  ইনিই হচ্ছেন ভারতের প্রতিরক্ষামন্ত্রী মনোহর পা...   \n",
              "1    রেন্ডিয়াকে পৃথীবির মানচিএ থেকে মুচে ফেলতে হবে     \n",
              "2  এই মালাউনরা বাংগালিদের সাফল্য দেখে হিংসা করে ব...   \n",
              "3                         আমরা বলতে কারা ভারত তাইতো    \n",
              "4                                পাকিস্তান আমার বাল    \n",
              "\n",
              "                                           tokenized  \n",
              "0  [ইনিই, হচ্ছেন, ভারতের, প্রতিরক্ষামন্ত্রী, মনো...  \n",
              "1  [রেন্ডিয়াকে, পৃথীবির, মানচিএ, থেকে, মুচে, ফেলত...  \n",
              "2  [এই, মালাউনরা, বাংগালিদের, সাফল্য, দেখে, হিংসা...  \n",
              "3                    [আমরা, বলতে, কারা, ভারত, তাইতো]  \n",
              "4                             [পাকিস্তান, আমার, বাল]  "
            ],
            "text/html": [
              "\n",
              "  <div id=\"df-9fa52f82-8094-44c3-82c0-c9a4e52db819\">\n",
              "    <div class=\"colab-df-container\">\n",
              "      <div>\n",
              "<style scoped>\n",
              "    .dataframe tbody tr th:only-of-type {\n",
              "        vertical-align: middle;\n",
              "    }\n",
              "\n",
              "    .dataframe tbody tr th {\n",
              "        vertical-align: top;\n",
              "    }\n",
              "\n",
              "    .dataframe thead th {\n",
              "        text-align: right;\n",
              "    }\n",
              "</style>\n",
              "<table border=\"1\" class=\"dataframe\">\n",
              "  <thead>\n",
              "    <tr style=\"text-align: right;\">\n",
              "      <th></th>\n",
              "      <th>texts</th>\n",
              "      <th>label</th>\n",
              "      <th>msg_clean</th>\n",
              "      <th>tokenized</th>\n",
              "    </tr>\n",
              "  </thead>\n",
              "  <tbody>\n",
              "    <tr>\n",
              "      <th>0</th>\n",
              "      <td>ইনিই হচ্ছেন ভারতের প্রতিরক্ষামন্ত্রী মনোহর পা...</td>\n",
              "      <td>Geopolitical</td>\n",
              "      <td>ইনিই হচ্ছেন ভারতের প্রতিরক্ষামন্ত্রী মনোহর পা...</td>\n",
              "      <td>[ইনিই, হচ্ছেন, ভারতের, প্রতিরক্ষামন্ত্রী, মনো...</td>\n",
              "    </tr>\n",
              "    <tr>\n",
              "      <th>1</th>\n",
              "      <td>রেন্ডিয়াকে পৃথীবির মানচিএ থেকে মুচে ফেলতে হবে</td>\n",
              "      <td>Geopolitical</td>\n",
              "      <td>রেন্ডিয়াকে পৃথীবির মানচিএ থেকে মুচে ফেলতে হবে</td>\n",
              "      <td>[রেন্ডিয়াকে, পৃথীবির, মানচিএ, থেকে, মুচে, ফেলত...</td>\n",
              "    </tr>\n",
              "    <tr>\n",
              "      <th>2</th>\n",
              "      <td>এই মালাউনরা বাংগালিদের সাফল্য দেখে হিংসা করে ব...</td>\n",
              "      <td>Religious</td>\n",
              "      <td>এই মালাউনরা বাংগালিদের সাফল্য দেখে হিংসা করে ব...</td>\n",
              "      <td>[এই, মালাউনরা, বাংগালিদের, সাফল্য, দেখে, হিংসা...</td>\n",
              "    </tr>\n",
              "    <tr>\n",
              "      <th>3</th>\n",
              "      <td>আমরা বলতে কারা ভারত তাইতো</td>\n",
              "      <td>Geopolitical</td>\n",
              "      <td>আমরা বলতে কারা ভারত তাইতো</td>\n",
              "      <td>[আমরা, বলতে, কারা, ভারত, তাইতো]</td>\n",
              "    </tr>\n",
              "    <tr>\n",
              "      <th>4</th>\n",
              "      <td>পাকিস্তান আমার বাল</td>\n",
              "      <td>Geopolitical</td>\n",
              "      <td>পাকিস্তান আমার বাল</td>\n",
              "      <td>[পাকিস্তান, আমার, বাল]</td>\n",
              "    </tr>\n",
              "  </tbody>\n",
              "</table>\n",
              "</div>\n",
              "      <button class=\"colab-df-convert\" onclick=\"convertToInteractive('df-9fa52f82-8094-44c3-82c0-c9a4e52db819')\"\n",
              "              title=\"Convert this dataframe to an interactive table.\"\n",
              "              style=\"display:none;\">\n",
              "        \n",
              "  <svg xmlns=\"http://www.w3.org/2000/svg\" height=\"24px\"viewBox=\"0 0 24 24\"\n",
              "       width=\"24px\">\n",
              "    <path d=\"M0 0h24v24H0V0z\" fill=\"none\"/>\n",
              "    <path d=\"M18.56 5.44l.94 2.06.94-2.06 2.06-.94-2.06-.94-.94-2.06-.94 2.06-2.06.94zm-11 1L8.5 8.5l.94-2.06 2.06-.94-2.06-.94L8.5 2.5l-.94 2.06-2.06.94zm10 10l.94 2.06.94-2.06 2.06-.94-2.06-.94-.94-2.06-.94 2.06-2.06.94z\"/><path d=\"M17.41 7.96l-1.37-1.37c-.4-.4-.92-.59-1.43-.59-.52 0-1.04.2-1.43.59L10.3 9.45l-7.72 7.72c-.78.78-.78 2.05 0 2.83L4 21.41c.39.39.9.59 1.41.59.51 0 1.02-.2 1.41-.59l7.78-7.78 2.81-2.81c.8-.78.8-2.07 0-2.86zM5.41 20L4 18.59l7.72-7.72 1.47 1.35L5.41 20z\"/>\n",
              "  </svg>\n",
              "      </button>\n",
              "      \n",
              "  <style>\n",
              "    .colab-df-container {\n",
              "      display:flex;\n",
              "      flex-wrap:wrap;\n",
              "      gap: 12px;\n",
              "    }\n",
              "\n",
              "    .colab-df-convert {\n",
              "      background-color: #E8F0FE;\n",
              "      border: none;\n",
              "      border-radius: 50%;\n",
              "      cursor: pointer;\n",
              "      display: none;\n",
              "      fill: #1967D2;\n",
              "      height: 32px;\n",
              "      padding: 0 0 0 0;\n",
              "      width: 32px;\n",
              "    }\n",
              "\n",
              "    .colab-df-convert:hover {\n",
              "      background-color: #E2EBFA;\n",
              "      box-shadow: 0px 1px 2px rgba(60, 64, 67, 0.3), 0px 1px 3px 1px rgba(60, 64, 67, 0.15);\n",
              "      fill: #174EA6;\n",
              "    }\n",
              "\n",
              "    [theme=dark] .colab-df-convert {\n",
              "      background-color: #3B4455;\n",
              "      fill: #D2E3FC;\n",
              "    }\n",
              "\n",
              "    [theme=dark] .colab-df-convert:hover {\n",
              "      background-color: #434B5C;\n",
              "      box-shadow: 0px 1px 3px 1px rgba(0, 0, 0, 0.15);\n",
              "      filter: drop-shadow(0px 1px 2px rgba(0, 0, 0, 0.3));\n",
              "      fill: #FFFFFF;\n",
              "    }\n",
              "  </style>\n",
              "\n",
              "      <script>\n",
              "        const buttonEl =\n",
              "          document.querySelector('#df-9fa52f82-8094-44c3-82c0-c9a4e52db819 button.colab-df-convert');\n",
              "        buttonEl.style.display =\n",
              "          google.colab.kernel.accessAllowed ? 'block' : 'none';\n",
              "\n",
              "        async function convertToInteractive(key) {\n",
              "          const element = document.querySelector('#df-9fa52f82-8094-44c3-82c0-c9a4e52db819');\n",
              "          const dataTable =\n",
              "            await google.colab.kernel.invokeFunction('convertToInteractive',\n",
              "                                                     [key], {});\n",
              "          if (!dataTable) return;\n",
              "\n",
              "          const docLinkHtml = 'Like what you see? Visit the ' +\n",
              "            '<a target=\"_blank\" href=https://colab.research.google.com/notebooks/data_table.ipynb>data table notebook</a>'\n",
              "            + ' to learn more about interactive tables.';\n",
              "          element.innerHTML = '';\n",
              "          dataTable['output_type'] = 'display_data';\n",
              "          await google.colab.output.renderOutput(dataTable, element);\n",
              "          const docLink = document.createElement('div');\n",
              "          docLink.innerHTML = docLinkHtml;\n",
              "          element.appendChild(docLink);\n",
              "        }\n",
              "      </script>\n",
              "    </div>\n",
              "  </div>\n",
              "  "
            ]
          },
          "metadata": {},
          "execution_count": 46
        }
      ]
    },
    {
      "cell_type": "code",
      "source": [
        "df['Removed Stopped word'] = df['msg_clean'].apply(lambda x: remove_stopwords(x,stopwords))\n",
        "df.head()"
      ],
      "metadata": {
        "colab": {
          "base_uri": "https://localhost:8080/",
          "height": 206
        },
        "id": "jVBzCaGhLVGJ",
        "outputId": "f8641246-24b0-4ab0-b59c-7f21c4562baa"
      },
      "execution_count": 47,
      "outputs": [
        {
          "output_type": "execute_result",
          "data": {
            "text/plain": [
              "                                               texts         label  \\\n",
              "0  ইনিই হচ্ছেন ভারতের প্রতিরক্ষামন্ত্রী মনোহর পা...  Geopolitical   \n",
              "1    রেন্ডিয়াকে পৃথীবির মানচিএ থেকে মুচে ফেলতে হবে    Geopolitical   \n",
              "2  এই মালাউনরা বাংগালিদের সাফল্য দেখে হিংসা করে ব...     Religious   \n",
              "3                         আমরা বলতে কারা ভারত তাইতো   Geopolitical   \n",
              "4                                পাকিস্তান আমার বাল   Geopolitical   \n",
              "\n",
              "                                           msg_clean  \\\n",
              "0  ইনিই হচ্ছেন ভারতের প্রতিরক্ষামন্ত্রী মনোহর পা...   \n",
              "1    রেন্ডিয়াকে পৃথীবির মানচিএ থেকে মুচে ফেলতে হবে     \n",
              "2  এই মালাউনরা বাংগালিদের সাফল্য দেখে হিংসা করে ব...   \n",
              "3                         আমরা বলতে কারা ভারত তাইতো    \n",
              "4                                পাকিস্তান আমার বাল    \n",
              "\n",
              "                                           tokenized  \\\n",
              "0  [ইনিই, হচ্ছেন, ভারতের, প্রতিরক্ষামন্ত্রী, মনো...   \n",
              "1  [রেন্ডিয়াকে, পৃথীবির, মানচিএ, থেকে, মুচে, ফেলত...   \n",
              "2  [এই, মালাউনরা, বাংগালিদের, সাফল্য, দেখে, হিংসা...   \n",
              "3                    [আমরা, বলতে, কারা, ভারত, তাইতো]   \n",
              "4                             [পাকিস্তান, আমার, বাল]   \n",
              "\n",
              "                                Removed Stopped word  \n",
              "0  [ইনিই, হচ্ছেন, ভারতের, প্রতিরক্ষামন্ত্রী, মনো...  \n",
              "1         [রেন্ডিয়াকে, পৃথীবির, মানচিএ, মুচে, ফেলতে]  \n",
              "2  [মালাউনরা, বাংগালিদের, সাফল্য, হিংসা, বাহির, দ...  \n",
              "3                                [কারা, ভারত, তাইতো]  \n",
              "4                                   [পাকিস্তান, বাল]  "
            ],
            "text/html": [
              "\n",
              "  <div id=\"df-bb05e1bd-8961-4f19-84d8-d3a269b11680\">\n",
              "    <div class=\"colab-df-container\">\n",
              "      <div>\n",
              "<style scoped>\n",
              "    .dataframe tbody tr th:only-of-type {\n",
              "        vertical-align: middle;\n",
              "    }\n",
              "\n",
              "    .dataframe tbody tr th {\n",
              "        vertical-align: top;\n",
              "    }\n",
              "\n",
              "    .dataframe thead th {\n",
              "        text-align: right;\n",
              "    }\n",
              "</style>\n",
              "<table border=\"1\" class=\"dataframe\">\n",
              "  <thead>\n",
              "    <tr style=\"text-align: right;\">\n",
              "      <th></th>\n",
              "      <th>texts</th>\n",
              "      <th>label</th>\n",
              "      <th>msg_clean</th>\n",
              "      <th>tokenized</th>\n",
              "      <th>Removed Stopped word</th>\n",
              "    </tr>\n",
              "  </thead>\n",
              "  <tbody>\n",
              "    <tr>\n",
              "      <th>0</th>\n",
              "      <td>ইনিই হচ্ছেন ভারতের প্রতিরক্ষামন্ত্রী মনোহর পা...</td>\n",
              "      <td>Geopolitical</td>\n",
              "      <td>ইনিই হচ্ছেন ভারতের প্রতিরক্ষামন্ত্রী মনোহর পা...</td>\n",
              "      <td>[ইনিই, হচ্ছেন, ভারতের, প্রতিরক্ষামন্ত্রী, মনো...</td>\n",
              "      <td>[ইনিই, হচ্ছেন, ভারতের, প্রতিরক্ষামন্ত্রী, মনো...</td>\n",
              "    </tr>\n",
              "    <tr>\n",
              "      <th>1</th>\n",
              "      <td>রেন্ডিয়াকে পৃথীবির মানচিএ থেকে মুচে ফেলতে হবে</td>\n",
              "      <td>Geopolitical</td>\n",
              "      <td>রেন্ডিয়াকে পৃথীবির মানচিএ থেকে মুচে ফেলতে হবে</td>\n",
              "      <td>[রেন্ডিয়াকে, পৃথীবির, মানচিএ, থেকে, মুচে, ফেলত...</td>\n",
              "      <td>[রেন্ডিয়াকে, পৃথীবির, মানচিএ, মুচে, ফেলতে]</td>\n",
              "    </tr>\n",
              "    <tr>\n",
              "      <th>2</th>\n",
              "      <td>এই মালাউনরা বাংগালিদের সাফল্য দেখে হিংসা করে ব...</td>\n",
              "      <td>Religious</td>\n",
              "      <td>এই মালাউনরা বাংগালিদের সাফল্য দেখে হিংসা করে ব...</td>\n",
              "      <td>[এই, মালাউনরা, বাংগালিদের, সাফল্য, দেখে, হিংসা...</td>\n",
              "      <td>[মালাউনরা, বাংগালিদের, সাফল্য, হিংসা, বাহির, দ...</td>\n",
              "    </tr>\n",
              "    <tr>\n",
              "      <th>3</th>\n",
              "      <td>আমরা বলতে কারা ভারত তাইতো</td>\n",
              "      <td>Geopolitical</td>\n",
              "      <td>আমরা বলতে কারা ভারত তাইতো</td>\n",
              "      <td>[আমরা, বলতে, কারা, ভারত, তাইতো]</td>\n",
              "      <td>[কারা, ভারত, তাইতো]</td>\n",
              "    </tr>\n",
              "    <tr>\n",
              "      <th>4</th>\n",
              "      <td>পাকিস্তান আমার বাল</td>\n",
              "      <td>Geopolitical</td>\n",
              "      <td>পাকিস্তান আমার বাল</td>\n",
              "      <td>[পাকিস্তান, আমার, বাল]</td>\n",
              "      <td>[পাকিস্তান, বাল]</td>\n",
              "    </tr>\n",
              "  </tbody>\n",
              "</table>\n",
              "</div>\n",
              "      <button class=\"colab-df-convert\" onclick=\"convertToInteractive('df-bb05e1bd-8961-4f19-84d8-d3a269b11680')\"\n",
              "              title=\"Convert this dataframe to an interactive table.\"\n",
              "              style=\"display:none;\">\n",
              "        \n",
              "  <svg xmlns=\"http://www.w3.org/2000/svg\" height=\"24px\"viewBox=\"0 0 24 24\"\n",
              "       width=\"24px\">\n",
              "    <path d=\"M0 0h24v24H0V0z\" fill=\"none\"/>\n",
              "    <path d=\"M18.56 5.44l.94 2.06.94-2.06 2.06-.94-2.06-.94-.94-2.06-.94 2.06-2.06.94zm-11 1L8.5 8.5l.94-2.06 2.06-.94-2.06-.94L8.5 2.5l-.94 2.06-2.06.94zm10 10l.94 2.06.94-2.06 2.06-.94-2.06-.94-.94-2.06-.94 2.06-2.06.94z\"/><path d=\"M17.41 7.96l-1.37-1.37c-.4-.4-.92-.59-1.43-.59-.52 0-1.04.2-1.43.59L10.3 9.45l-7.72 7.72c-.78.78-.78 2.05 0 2.83L4 21.41c.39.39.9.59 1.41.59.51 0 1.02-.2 1.41-.59l7.78-7.78 2.81-2.81c.8-.78.8-2.07 0-2.86zM5.41 20L4 18.59l7.72-7.72 1.47 1.35L5.41 20z\"/>\n",
              "  </svg>\n",
              "      </button>\n",
              "      \n",
              "  <style>\n",
              "    .colab-df-container {\n",
              "      display:flex;\n",
              "      flex-wrap:wrap;\n",
              "      gap: 12px;\n",
              "    }\n",
              "\n",
              "    .colab-df-convert {\n",
              "      background-color: #E8F0FE;\n",
              "      border: none;\n",
              "      border-radius: 50%;\n",
              "      cursor: pointer;\n",
              "      display: none;\n",
              "      fill: #1967D2;\n",
              "      height: 32px;\n",
              "      padding: 0 0 0 0;\n",
              "      width: 32px;\n",
              "    }\n",
              "\n",
              "    .colab-df-convert:hover {\n",
              "      background-color: #E2EBFA;\n",
              "      box-shadow: 0px 1px 2px rgba(60, 64, 67, 0.3), 0px 1px 3px 1px rgba(60, 64, 67, 0.15);\n",
              "      fill: #174EA6;\n",
              "    }\n",
              "\n",
              "    [theme=dark] .colab-df-convert {\n",
              "      background-color: #3B4455;\n",
              "      fill: #D2E3FC;\n",
              "    }\n",
              "\n",
              "    [theme=dark] .colab-df-convert:hover {\n",
              "      background-color: #434B5C;\n",
              "      box-shadow: 0px 1px 3px 1px rgba(0, 0, 0, 0.15);\n",
              "      filter: drop-shadow(0px 1px 2px rgba(0, 0, 0, 0.3));\n",
              "      fill: #FFFFFF;\n",
              "    }\n",
              "  </style>\n",
              "\n",
              "      <script>\n",
              "        const buttonEl =\n",
              "          document.querySelector('#df-bb05e1bd-8961-4f19-84d8-d3a269b11680 button.colab-df-convert');\n",
              "        buttonEl.style.display =\n",
              "          google.colab.kernel.accessAllowed ? 'block' : 'none';\n",
              "\n",
              "        async function convertToInteractive(key) {\n",
              "          const element = document.querySelector('#df-bb05e1bd-8961-4f19-84d8-d3a269b11680');\n",
              "          const dataTable =\n",
              "            await google.colab.kernel.invokeFunction('convertToInteractive',\n",
              "                                                     [key], {});\n",
              "          if (!dataTable) return;\n",
              "\n",
              "          const docLinkHtml = 'Like what you see? Visit the ' +\n",
              "            '<a target=\"_blank\" href=https://colab.research.google.com/notebooks/data_table.ipynb>data table notebook</a>'\n",
              "            + ' to learn more about interactive tables.';\n",
              "          element.innerHTML = '';\n",
              "          dataTable['output_type'] = 'display_data';\n",
              "          await google.colab.output.renderOutput(dataTable, element);\n",
              "          const docLink = document.createElement('div');\n",
              "          docLink.innerHTML = docLinkHtml;\n",
              "          element.appendChild(docLink);\n",
              "        }\n",
              "      </script>\n",
              "    </div>\n",
              "  </div>\n",
              "  "
            ]
          },
          "metadata": {},
          "execution_count": 47
        }
      ]
    },
    {
      "cell_type": "code",
      "source": [
        "df['texts']=df['Removed Stopped word'].apply(' '.join)"
      ],
      "metadata": {
        "id": "2qCLcEhbLX81"
      },
      "execution_count": 48,
      "outputs": []
    },
    {
      "cell_type": "code",
      "source": [
        "X=df['texts']\n",
        "y=df['label']\n",
        "X_train, X_test, y_train, y_test = train_test_split(X, y, test_size=0.30, random_state=rstate)"
      ],
      "metadata": {
        "id": "7d3VU663LfOd"
      },
      "execution_count": 49,
      "outputs": []
    },
    {
      "cell_type": "code",
      "source": [
        "cv = CountVectorizer(stop_words = stopwords)\n",
        "cv.fit(X)\n",
        "\n",
        "# transform the training and testing data using count vectorizer object\n",
        "X_train_count =  cv.transform(X_train)\n",
        "X_test_count =  cv.transform(X_test)\n",
        "\n",
        "tfidf_tr = TfidfTransformer()\n",
        "X_train_count_tfidf = tfidf_tr.fit_transform(X_train_count)\n",
        "X_test_count_tfidf = tfidf_tr.transform(X_test_count)\n",
        "\n",
        "# ngram level tf-idf \n",
        "tv_ngram = TfidfVectorizer(ngram_range=(1,2))\n",
        "tv_ngram.fit(X)\n",
        "X_train_tfidf_ngram =  tv_ngram.transform(X_train)\n",
        "X_test_tfidf_ngram =  tv_ngram.transform(X_test)"
      ],
      "metadata": {
        "id": "DxZwp6M9Lm-R"
      },
      "execution_count": 50,
      "outputs": []
    },
    {
      "cell_type": "code",
      "source": [
        "X_train_count.shape"
      ],
      "metadata": {
        "colab": {
          "base_uri": "https://localhost:8080/"
        },
        "id": "WO--ff0JLwra",
        "outputId": "ff493e7b-381a-4e5d-d7a6-e09cce1c7362"
      },
      "execution_count": 51,
      "outputs": [
        {
          "output_type": "execute_result",
          "data": {
            "text/plain": [
              "(3488, 2040)"
            ]
          },
          "metadata": {},
          "execution_count": 51
        }
      ]
    },
    {
      "cell_type": "code",
      "source": [
        "X_test_count.shape"
      ],
      "metadata": {
        "colab": {
          "base_uri": "https://localhost:8080/"
        },
        "id": "uEAKH7ISL0TB",
        "outputId": "6f31baa9-c0fd-41be-e249-70e280167209"
      },
      "execution_count": 52,
      "outputs": [
        {
          "output_type": "execute_result",
          "data": {
            "text/plain": [
              "(1495, 2040)"
            ]
          },
          "metadata": {},
          "execution_count": 52
        }
      ]
    },
    {
      "cell_type": "code",
      "source": [
        "def classifierModel(classifier, Xtrain, Ytrain, Xtest,roc):\n",
        "    classifier.fit(Xtrain, Ytrain)\n",
        "    predictions = classifier.predict(Xtest)\n",
        "    print(30*'=')\n",
        "    print(\"Accuracy : \", accuracy_score(predictions, y_test))\n",
        "    print(30*'=')\n",
        "    if roc:\n",
        "        probs = classifier.predict_proba(X_test_count_tfidf)\n",
        "        preds = probs[:,1]\n",
        "        fpr_svm, tpr_svm, threshold_svm = metrics.roc_curve(y_test, preds)\n",
        "        roc_auc_svm = metrics.auc(fpr_svm, tpr_svm)\n",
        "\n",
        "        import matplotlib.pyplot as plt\n",
        "        plt.title(type(classifier).__name__)\n",
        "        plt.plot(fpr_svm, tpr_svm, 'b', label = 'AUC = %0.2f' % roc_auc_svm)\n",
        "        plt.legend(loc = 'lower right')\n",
        "        plt.plot([0, 1], [0, 1],'r--')\n",
        "        plt.xlim([0, 1])\n",
        "        plt.ylim([0, 1])\n",
        "        plt.ylabel('True Positive Rate')\n",
        "        plt.xlabel('False Positive Rate')\n",
        "        plt.show()\n",
        "    \n",
        "    target_names = ['class 0', 'class 1']\n",
        "    print(classification_report(y_test, predictions, target_names=target_names))"
      ],
      "metadata": {
        "id": "gDDMZJ7KL6Ai"
      },
      "execution_count": 53,
      "outputs": []
    },
    {
      "cell_type": "code",
      "source": [
        "print(\"\\nLinearSVM with Count Vectors: \")\n",
        "classifierModel(SVC(kernel='linear', probability=True), X_train_count, y_train, X_test_count,roc=True)\n",
        "\n",
        "print(\"\\nLinearSVM with Count Vectors + TF-IDF: \")\n",
        "classifierModel(SVC(kernel='linear', probability=True), X_train_count_tfidf, y_train, X_test_count_tfidf,roc=True)\n",
        "\n",
        "print(\"\\nLinearSVM with N-Gram Vectors: \")\n",
        "classifierModel(SVC(kernel='linear', probability=True), X_train_tfidf_ngram, y_train, X_test_tfidf_ngram,roc=False)"
      ],
      "metadata": {
        "colab": {
          "base_uri": "https://localhost:8080/",
          "height": 468
        },
        "id": "1LfmprODL7wL",
        "outputId": "06cfea7e-c17e-4446-a009-b230be2229d8"
      },
      "execution_count": 54,
      "outputs": [
        {
          "output_type": "stream",
          "name": "stdout",
          "text": [
            "\n",
            "LinearSVM with Count Vectors: \n",
            "==============================\n",
            "Accuracy :  0.38996655518394646\n",
            "==============================\n"
          ]
        },
        {
          "output_type": "error",
          "ename": "ValueError",
          "evalue": "ignored",
          "traceback": [
            "\u001b[0;31m---------------------------------------------------------------------------\u001b[0m",
            "\u001b[0;31mValueError\u001b[0m                                Traceback (most recent call last)",
            "\u001b[0;32m<ipython-input-54-63693397b16b>\u001b[0m in \u001b[0;36m<module>\u001b[0;34m()\u001b[0m\n\u001b[1;32m      1\u001b[0m \u001b[0mprint\u001b[0m\u001b[0;34m(\u001b[0m\u001b[0;34m\"\\nLinearSVM with Count Vectors: \"\u001b[0m\u001b[0;34m)\u001b[0m\u001b[0;34m\u001b[0m\u001b[0;34m\u001b[0m\u001b[0m\n\u001b[0;32m----> 2\u001b[0;31m \u001b[0mclassifierModel\u001b[0m\u001b[0;34m(\u001b[0m\u001b[0mSVC\u001b[0m\u001b[0;34m(\u001b[0m\u001b[0mkernel\u001b[0m\u001b[0;34m=\u001b[0m\u001b[0;34m'linear'\u001b[0m\u001b[0;34m,\u001b[0m \u001b[0mprobability\u001b[0m\u001b[0;34m=\u001b[0m\u001b[0;32mTrue\u001b[0m\u001b[0;34m)\u001b[0m\u001b[0;34m,\u001b[0m \u001b[0mX_train_count\u001b[0m\u001b[0;34m,\u001b[0m \u001b[0my_train\u001b[0m\u001b[0;34m,\u001b[0m \u001b[0mX_test_count\u001b[0m\u001b[0;34m,\u001b[0m\u001b[0mroc\u001b[0m\u001b[0;34m=\u001b[0m\u001b[0;32mTrue\u001b[0m\u001b[0;34m)\u001b[0m\u001b[0;34m\u001b[0m\u001b[0;34m\u001b[0m\u001b[0m\n\u001b[0m\u001b[1;32m      3\u001b[0m \u001b[0;34m\u001b[0m\u001b[0m\n\u001b[1;32m      4\u001b[0m \u001b[0mprint\u001b[0m\u001b[0;34m(\u001b[0m\u001b[0;34m\"\\nLinearSVM with Count Vectors + TF-IDF: \"\u001b[0m\u001b[0;34m)\u001b[0m\u001b[0;34m\u001b[0m\u001b[0;34m\u001b[0m\u001b[0m\n\u001b[1;32m      5\u001b[0m \u001b[0mclassifierModel\u001b[0m\u001b[0;34m(\u001b[0m\u001b[0mSVC\u001b[0m\u001b[0;34m(\u001b[0m\u001b[0mkernel\u001b[0m\u001b[0;34m=\u001b[0m\u001b[0;34m'linear'\u001b[0m\u001b[0;34m,\u001b[0m \u001b[0mprobability\u001b[0m\u001b[0;34m=\u001b[0m\u001b[0;32mTrue\u001b[0m\u001b[0;34m)\u001b[0m\u001b[0;34m,\u001b[0m \u001b[0mX_train_count_tfidf\u001b[0m\u001b[0;34m,\u001b[0m \u001b[0my_train\u001b[0m\u001b[0;34m,\u001b[0m \u001b[0mX_test_count_tfidf\u001b[0m\u001b[0;34m,\u001b[0m\u001b[0mroc\u001b[0m\u001b[0;34m=\u001b[0m\u001b[0;32mTrue\u001b[0m\u001b[0;34m)\u001b[0m\u001b[0;34m\u001b[0m\u001b[0;34m\u001b[0m\u001b[0m\n",
            "\u001b[0;32m<ipython-input-53-0fc7d599aa96>\u001b[0m in \u001b[0;36mclassifierModel\u001b[0;34m(classifier, Xtrain, Ytrain, Xtest, roc)\u001b[0m\n\u001b[1;32m      8\u001b[0m         \u001b[0mprobs\u001b[0m \u001b[0;34m=\u001b[0m \u001b[0mclassifier\u001b[0m\u001b[0;34m.\u001b[0m\u001b[0mpredict_proba\u001b[0m\u001b[0;34m(\u001b[0m\u001b[0mX_test_count_tfidf\u001b[0m\u001b[0;34m)\u001b[0m\u001b[0;34m\u001b[0m\u001b[0;34m\u001b[0m\u001b[0m\n\u001b[1;32m      9\u001b[0m         \u001b[0mpreds\u001b[0m \u001b[0;34m=\u001b[0m \u001b[0mprobs\u001b[0m\u001b[0;34m[\u001b[0m\u001b[0;34m:\u001b[0m\u001b[0;34m,\u001b[0m\u001b[0;36m1\u001b[0m\u001b[0;34m]\u001b[0m\u001b[0;34m\u001b[0m\u001b[0;34m\u001b[0m\u001b[0m\n\u001b[0;32m---> 10\u001b[0;31m         \u001b[0mfpr_svm\u001b[0m\u001b[0;34m,\u001b[0m \u001b[0mtpr_svm\u001b[0m\u001b[0;34m,\u001b[0m \u001b[0mthreshold_svm\u001b[0m \u001b[0;34m=\u001b[0m \u001b[0mmetrics\u001b[0m\u001b[0;34m.\u001b[0m\u001b[0mroc_curve\u001b[0m\u001b[0;34m(\u001b[0m\u001b[0my_test\u001b[0m\u001b[0;34m,\u001b[0m \u001b[0mpreds\u001b[0m\u001b[0;34m)\u001b[0m\u001b[0;34m\u001b[0m\u001b[0;34m\u001b[0m\u001b[0m\n\u001b[0m\u001b[1;32m     11\u001b[0m         \u001b[0mroc_auc_svm\u001b[0m \u001b[0;34m=\u001b[0m \u001b[0mmetrics\u001b[0m\u001b[0;34m.\u001b[0m\u001b[0mauc\u001b[0m\u001b[0;34m(\u001b[0m\u001b[0mfpr_svm\u001b[0m\u001b[0;34m,\u001b[0m \u001b[0mtpr_svm\u001b[0m\u001b[0;34m)\u001b[0m\u001b[0;34m\u001b[0m\u001b[0;34m\u001b[0m\u001b[0m\n\u001b[1;32m     12\u001b[0m \u001b[0;34m\u001b[0m\u001b[0m\n",
            "\u001b[0;32m/usr/local/lib/python3.7/dist-packages/sklearn/metrics/_ranking.py\u001b[0m in \u001b[0;36mroc_curve\u001b[0;34m(y_true, y_score, pos_label, sample_weight, drop_intermediate)\u001b[0m\n\u001b[1;32m    961\u001b[0m     \"\"\"\n\u001b[1;32m    962\u001b[0m     fps, tps, thresholds = _binary_clf_curve(\n\u001b[0;32m--> 963\u001b[0;31m         \u001b[0my_true\u001b[0m\u001b[0;34m,\u001b[0m \u001b[0my_score\u001b[0m\u001b[0;34m,\u001b[0m \u001b[0mpos_label\u001b[0m\u001b[0;34m=\u001b[0m\u001b[0mpos_label\u001b[0m\u001b[0;34m,\u001b[0m \u001b[0msample_weight\u001b[0m\u001b[0;34m=\u001b[0m\u001b[0msample_weight\u001b[0m\u001b[0;34m\u001b[0m\u001b[0;34m\u001b[0m\u001b[0m\n\u001b[0m\u001b[1;32m    964\u001b[0m     )\n\u001b[1;32m    965\u001b[0m \u001b[0;34m\u001b[0m\u001b[0m\n",
            "\u001b[0;32m/usr/local/lib/python3.7/dist-packages/sklearn/metrics/_ranking.py\u001b[0m in \u001b[0;36m_binary_clf_curve\u001b[0;34m(y_true, y_score, pos_label, sample_weight)\u001b[0m\n\u001b[1;32m    729\u001b[0m     \u001b[0my_type\u001b[0m \u001b[0;34m=\u001b[0m \u001b[0mtype_of_target\u001b[0m\u001b[0;34m(\u001b[0m\u001b[0my_true\u001b[0m\u001b[0;34m)\u001b[0m\u001b[0;34m\u001b[0m\u001b[0;34m\u001b[0m\u001b[0m\n\u001b[1;32m    730\u001b[0m     \u001b[0;32mif\u001b[0m \u001b[0;32mnot\u001b[0m \u001b[0;34m(\u001b[0m\u001b[0my_type\u001b[0m \u001b[0;34m==\u001b[0m \u001b[0;34m\"binary\"\u001b[0m \u001b[0;32mor\u001b[0m \u001b[0;34m(\u001b[0m\u001b[0my_type\u001b[0m \u001b[0;34m==\u001b[0m \u001b[0;34m\"multiclass\"\u001b[0m \u001b[0;32mand\u001b[0m \u001b[0mpos_label\u001b[0m \u001b[0;32mis\u001b[0m \u001b[0;32mnot\u001b[0m \u001b[0;32mNone\u001b[0m\u001b[0;34m)\u001b[0m\u001b[0;34m)\u001b[0m\u001b[0;34m:\u001b[0m\u001b[0;34m\u001b[0m\u001b[0;34m\u001b[0m\u001b[0m\n\u001b[0;32m--> 731\u001b[0;31m         \u001b[0;32mraise\u001b[0m \u001b[0mValueError\u001b[0m\u001b[0;34m(\u001b[0m\u001b[0;34m\"{0} format is not supported\"\u001b[0m\u001b[0;34m.\u001b[0m\u001b[0mformat\u001b[0m\u001b[0;34m(\u001b[0m\u001b[0my_type\u001b[0m\u001b[0;34m)\u001b[0m\u001b[0;34m)\u001b[0m\u001b[0;34m\u001b[0m\u001b[0;34m\u001b[0m\u001b[0m\n\u001b[0m\u001b[1;32m    732\u001b[0m \u001b[0;34m\u001b[0m\u001b[0m\n\u001b[1;32m    733\u001b[0m     \u001b[0mcheck_consistent_length\u001b[0m\u001b[0;34m(\u001b[0m\u001b[0my_true\u001b[0m\u001b[0;34m,\u001b[0m \u001b[0my_score\u001b[0m\u001b[0;34m,\u001b[0m \u001b[0msample_weight\u001b[0m\u001b[0;34m)\u001b[0m\u001b[0;34m\u001b[0m\u001b[0;34m\u001b[0m\u001b[0m\n",
            "\u001b[0;31mValueError\u001b[0m: multiclass format is not supported"
          ]
        }
      ]
    },
    {
      "cell_type": "code",
      "source": [
        "print(\"\\nNaive Bayes with Count Vectors: \")\n",
        "classifierModel(MultinomialNB(), X_train_count, y_train, X_test_count,roc=True)\n",
        "\n",
        "print(\"\\nNaive Bayes with Count Vectors + TF-IDF: \")\n",
        "classifierModel(MultinomialNB(), X_train_count_tfidf, y_train, X_test_count_tfidf,roc=True)\n",
        "\n",
        "print(\"\\nNaive Bayes with N-Gram Vectors: \")\n",
        "classifierModel(MultinomialNB(), X_train_tfidf_ngram, y_train, X_test_tfidf_ngram,roc=False)"
      ],
      "metadata": {
        "colab": {
          "base_uri": "https://localhost:8080/",
          "height": 468
        },
        "id": "lPI8yt1YMOFj",
        "outputId": "6f05be86-3282-4745-bc63-94a00ab088cc"
      },
      "execution_count": 55,
      "outputs": [
        {
          "output_type": "stream",
          "name": "stdout",
          "text": [
            "\n",
            "Naive Bayes with Count Vectors: \n",
            "==============================\n",
            "Accuracy :  0.3732441471571906\n",
            "==============================\n"
          ]
        },
        {
          "output_type": "error",
          "ename": "ValueError",
          "evalue": "ignored",
          "traceback": [
            "\u001b[0;31m---------------------------------------------------------------------------\u001b[0m",
            "\u001b[0;31mValueError\u001b[0m                                Traceback (most recent call last)",
            "\u001b[0;32m<ipython-input-55-bf1013b4abda>\u001b[0m in \u001b[0;36m<module>\u001b[0;34m()\u001b[0m\n\u001b[1;32m      1\u001b[0m \u001b[0mprint\u001b[0m\u001b[0;34m(\u001b[0m\u001b[0;34m\"\\nNaive Bayes with Count Vectors: \"\u001b[0m\u001b[0;34m)\u001b[0m\u001b[0;34m\u001b[0m\u001b[0;34m\u001b[0m\u001b[0m\n\u001b[0;32m----> 2\u001b[0;31m \u001b[0mclassifierModel\u001b[0m\u001b[0;34m(\u001b[0m\u001b[0mMultinomialNB\u001b[0m\u001b[0;34m(\u001b[0m\u001b[0;34m)\u001b[0m\u001b[0;34m,\u001b[0m \u001b[0mX_train_count\u001b[0m\u001b[0;34m,\u001b[0m \u001b[0my_train\u001b[0m\u001b[0;34m,\u001b[0m \u001b[0mX_test_count\u001b[0m\u001b[0;34m,\u001b[0m\u001b[0mroc\u001b[0m\u001b[0;34m=\u001b[0m\u001b[0;32mTrue\u001b[0m\u001b[0;34m)\u001b[0m\u001b[0;34m\u001b[0m\u001b[0;34m\u001b[0m\u001b[0m\n\u001b[0m\u001b[1;32m      3\u001b[0m \u001b[0;34m\u001b[0m\u001b[0m\n\u001b[1;32m      4\u001b[0m \u001b[0mprint\u001b[0m\u001b[0;34m(\u001b[0m\u001b[0;34m\"\\nNaive Bayes with Count Vectors + TF-IDF: \"\u001b[0m\u001b[0;34m)\u001b[0m\u001b[0;34m\u001b[0m\u001b[0;34m\u001b[0m\u001b[0m\n\u001b[1;32m      5\u001b[0m \u001b[0mclassifierModel\u001b[0m\u001b[0;34m(\u001b[0m\u001b[0mMultinomialNB\u001b[0m\u001b[0;34m(\u001b[0m\u001b[0;34m)\u001b[0m\u001b[0;34m,\u001b[0m \u001b[0mX_train_count_tfidf\u001b[0m\u001b[0;34m,\u001b[0m \u001b[0my_train\u001b[0m\u001b[0;34m,\u001b[0m \u001b[0mX_test_count_tfidf\u001b[0m\u001b[0;34m,\u001b[0m\u001b[0mroc\u001b[0m\u001b[0;34m=\u001b[0m\u001b[0;32mTrue\u001b[0m\u001b[0;34m)\u001b[0m\u001b[0;34m\u001b[0m\u001b[0;34m\u001b[0m\u001b[0m\n",
            "\u001b[0;32m<ipython-input-53-0fc7d599aa96>\u001b[0m in \u001b[0;36mclassifierModel\u001b[0;34m(classifier, Xtrain, Ytrain, Xtest, roc)\u001b[0m\n\u001b[1;32m      8\u001b[0m         \u001b[0mprobs\u001b[0m \u001b[0;34m=\u001b[0m \u001b[0mclassifier\u001b[0m\u001b[0;34m.\u001b[0m\u001b[0mpredict_proba\u001b[0m\u001b[0;34m(\u001b[0m\u001b[0mX_test_count_tfidf\u001b[0m\u001b[0;34m)\u001b[0m\u001b[0;34m\u001b[0m\u001b[0;34m\u001b[0m\u001b[0m\n\u001b[1;32m      9\u001b[0m         \u001b[0mpreds\u001b[0m \u001b[0;34m=\u001b[0m \u001b[0mprobs\u001b[0m\u001b[0;34m[\u001b[0m\u001b[0;34m:\u001b[0m\u001b[0;34m,\u001b[0m\u001b[0;36m1\u001b[0m\u001b[0;34m]\u001b[0m\u001b[0;34m\u001b[0m\u001b[0;34m\u001b[0m\u001b[0m\n\u001b[0;32m---> 10\u001b[0;31m         \u001b[0mfpr_svm\u001b[0m\u001b[0;34m,\u001b[0m \u001b[0mtpr_svm\u001b[0m\u001b[0;34m,\u001b[0m \u001b[0mthreshold_svm\u001b[0m \u001b[0;34m=\u001b[0m \u001b[0mmetrics\u001b[0m\u001b[0;34m.\u001b[0m\u001b[0mroc_curve\u001b[0m\u001b[0;34m(\u001b[0m\u001b[0my_test\u001b[0m\u001b[0;34m,\u001b[0m \u001b[0mpreds\u001b[0m\u001b[0;34m)\u001b[0m\u001b[0;34m\u001b[0m\u001b[0;34m\u001b[0m\u001b[0m\n\u001b[0m\u001b[1;32m     11\u001b[0m         \u001b[0mroc_auc_svm\u001b[0m \u001b[0;34m=\u001b[0m \u001b[0mmetrics\u001b[0m\u001b[0;34m.\u001b[0m\u001b[0mauc\u001b[0m\u001b[0;34m(\u001b[0m\u001b[0mfpr_svm\u001b[0m\u001b[0;34m,\u001b[0m \u001b[0mtpr_svm\u001b[0m\u001b[0;34m)\u001b[0m\u001b[0;34m\u001b[0m\u001b[0;34m\u001b[0m\u001b[0m\n\u001b[1;32m     12\u001b[0m \u001b[0;34m\u001b[0m\u001b[0m\n",
            "\u001b[0;32m/usr/local/lib/python3.7/dist-packages/sklearn/metrics/_ranking.py\u001b[0m in \u001b[0;36mroc_curve\u001b[0;34m(y_true, y_score, pos_label, sample_weight, drop_intermediate)\u001b[0m\n\u001b[1;32m    961\u001b[0m     \"\"\"\n\u001b[1;32m    962\u001b[0m     fps, tps, thresholds = _binary_clf_curve(\n\u001b[0;32m--> 963\u001b[0;31m         \u001b[0my_true\u001b[0m\u001b[0;34m,\u001b[0m \u001b[0my_score\u001b[0m\u001b[0;34m,\u001b[0m \u001b[0mpos_label\u001b[0m\u001b[0;34m=\u001b[0m\u001b[0mpos_label\u001b[0m\u001b[0;34m,\u001b[0m \u001b[0msample_weight\u001b[0m\u001b[0;34m=\u001b[0m\u001b[0msample_weight\u001b[0m\u001b[0;34m\u001b[0m\u001b[0;34m\u001b[0m\u001b[0m\n\u001b[0m\u001b[1;32m    964\u001b[0m     )\n\u001b[1;32m    965\u001b[0m \u001b[0;34m\u001b[0m\u001b[0m\n",
            "\u001b[0;32m/usr/local/lib/python3.7/dist-packages/sklearn/metrics/_ranking.py\u001b[0m in \u001b[0;36m_binary_clf_curve\u001b[0;34m(y_true, y_score, pos_label, sample_weight)\u001b[0m\n\u001b[1;32m    729\u001b[0m     \u001b[0my_type\u001b[0m \u001b[0;34m=\u001b[0m \u001b[0mtype_of_target\u001b[0m\u001b[0;34m(\u001b[0m\u001b[0my_true\u001b[0m\u001b[0;34m)\u001b[0m\u001b[0;34m\u001b[0m\u001b[0;34m\u001b[0m\u001b[0m\n\u001b[1;32m    730\u001b[0m     \u001b[0;32mif\u001b[0m \u001b[0;32mnot\u001b[0m \u001b[0;34m(\u001b[0m\u001b[0my_type\u001b[0m \u001b[0;34m==\u001b[0m \u001b[0;34m\"binary\"\u001b[0m \u001b[0;32mor\u001b[0m \u001b[0;34m(\u001b[0m\u001b[0my_type\u001b[0m \u001b[0;34m==\u001b[0m \u001b[0;34m\"multiclass\"\u001b[0m \u001b[0;32mand\u001b[0m \u001b[0mpos_label\u001b[0m \u001b[0;32mis\u001b[0m \u001b[0;32mnot\u001b[0m \u001b[0;32mNone\u001b[0m\u001b[0;34m)\u001b[0m\u001b[0;34m)\u001b[0m\u001b[0;34m:\u001b[0m\u001b[0;34m\u001b[0m\u001b[0;34m\u001b[0m\u001b[0m\n\u001b[0;32m--> 731\u001b[0;31m         \u001b[0;32mraise\u001b[0m \u001b[0mValueError\u001b[0m\u001b[0;34m(\u001b[0m\u001b[0;34m\"{0} format is not supported\"\u001b[0m\u001b[0;34m.\u001b[0m\u001b[0mformat\u001b[0m\u001b[0;34m(\u001b[0m\u001b[0my_type\u001b[0m\u001b[0;34m)\u001b[0m\u001b[0;34m)\u001b[0m\u001b[0;34m\u001b[0m\u001b[0;34m\u001b[0m\u001b[0m\n\u001b[0m\u001b[1;32m    732\u001b[0m \u001b[0;34m\u001b[0m\u001b[0m\n\u001b[1;32m    733\u001b[0m     \u001b[0mcheck_consistent_length\u001b[0m\u001b[0;34m(\u001b[0m\u001b[0my_true\u001b[0m\u001b[0;34m,\u001b[0m \u001b[0my_score\u001b[0m\u001b[0;34m,\u001b[0m \u001b[0msample_weight\u001b[0m\u001b[0;34m)\u001b[0m\u001b[0;34m\u001b[0m\u001b[0;34m\u001b[0m\u001b[0m\n",
            "\u001b[0;31mValueError\u001b[0m: multiclass format is not supported"
          ]
        }
      ]
    },
    {
      "cell_type": "code",
      "source": [
        "print(\"\\nRandom Forrest Classifier with Count Vectors: \")\n",
        "classifierModel(RandomForestClassifier(random_state=rstate,n_estimators=512), X_train_count, y_train, X_test_count,roc=True)\n",
        "\n",
        "print(\"\\nRandom Forrest Classifier with Count Vectors + TF-IDF: \")\n",
        "classifierModel(RandomForestClassifier(random_state=rstate,n_estimators=512), X_train_count_tfidf, y_train, X_test_count_tfidf,roc=True)\n",
        "\n",
        "print(\"\\nRandom Forrest Classifier with N-Gram Vectors: \")\n",
        "classifierModel(RandomForestClassifier(random_state=rstate,n_estimators=512), X_train_tfidf_ngram, y_train, X_test_tfidf_ngram,roc=False)"
      ],
      "metadata": {
        "colab": {
          "base_uri": "https://localhost:8080/",
          "height": 468
        },
        "id": "wF1Xnh-0MQoh",
        "outputId": "602f5969-ce97-49c7-f795-b644a7b70eb7"
      },
      "execution_count": 56,
      "outputs": [
        {
          "output_type": "stream",
          "name": "stdout",
          "text": [
            "\n",
            "Random Forrest Classifier with Count Vectors: \n",
            "==============================\n",
            "Accuracy :  0.3826086956521739\n",
            "==============================\n"
          ]
        },
        {
          "output_type": "error",
          "ename": "ValueError",
          "evalue": "ignored",
          "traceback": [
            "\u001b[0;31m---------------------------------------------------------------------------\u001b[0m",
            "\u001b[0;31mValueError\u001b[0m                                Traceback (most recent call last)",
            "\u001b[0;32m<ipython-input-56-2ca23f02de3b>\u001b[0m in \u001b[0;36m<module>\u001b[0;34m()\u001b[0m\n\u001b[1;32m      1\u001b[0m \u001b[0mprint\u001b[0m\u001b[0;34m(\u001b[0m\u001b[0;34m\"\\nRandom Forrest Classifier with Count Vectors: \"\u001b[0m\u001b[0;34m)\u001b[0m\u001b[0;34m\u001b[0m\u001b[0;34m\u001b[0m\u001b[0m\n\u001b[0;32m----> 2\u001b[0;31m \u001b[0mclassifierModel\u001b[0m\u001b[0;34m(\u001b[0m\u001b[0mRandomForestClassifier\u001b[0m\u001b[0;34m(\u001b[0m\u001b[0mrandom_state\u001b[0m\u001b[0;34m=\u001b[0m\u001b[0mrstate\u001b[0m\u001b[0;34m,\u001b[0m\u001b[0mn_estimators\u001b[0m\u001b[0;34m=\u001b[0m\u001b[0;36m512\u001b[0m\u001b[0;34m)\u001b[0m\u001b[0;34m,\u001b[0m \u001b[0mX_train_count\u001b[0m\u001b[0;34m,\u001b[0m \u001b[0my_train\u001b[0m\u001b[0;34m,\u001b[0m \u001b[0mX_test_count\u001b[0m\u001b[0;34m,\u001b[0m\u001b[0mroc\u001b[0m\u001b[0;34m=\u001b[0m\u001b[0;32mTrue\u001b[0m\u001b[0;34m)\u001b[0m\u001b[0;34m\u001b[0m\u001b[0;34m\u001b[0m\u001b[0m\n\u001b[0m\u001b[1;32m      3\u001b[0m \u001b[0;34m\u001b[0m\u001b[0m\n\u001b[1;32m      4\u001b[0m \u001b[0mprint\u001b[0m\u001b[0;34m(\u001b[0m\u001b[0;34m\"\\nRandom Forrest Classifier with Count Vectors + TF-IDF: \"\u001b[0m\u001b[0;34m)\u001b[0m\u001b[0;34m\u001b[0m\u001b[0;34m\u001b[0m\u001b[0m\n\u001b[1;32m      5\u001b[0m \u001b[0mclassifierModel\u001b[0m\u001b[0;34m(\u001b[0m\u001b[0mRandomForestClassifier\u001b[0m\u001b[0;34m(\u001b[0m\u001b[0mrandom_state\u001b[0m\u001b[0;34m=\u001b[0m\u001b[0mrstate\u001b[0m\u001b[0;34m,\u001b[0m\u001b[0mn_estimators\u001b[0m\u001b[0;34m=\u001b[0m\u001b[0;36m512\u001b[0m\u001b[0;34m)\u001b[0m\u001b[0;34m,\u001b[0m \u001b[0mX_train_count_tfidf\u001b[0m\u001b[0;34m,\u001b[0m \u001b[0my_train\u001b[0m\u001b[0;34m,\u001b[0m \u001b[0mX_test_count_tfidf\u001b[0m\u001b[0;34m,\u001b[0m\u001b[0mroc\u001b[0m\u001b[0;34m=\u001b[0m\u001b[0;32mTrue\u001b[0m\u001b[0;34m)\u001b[0m\u001b[0;34m\u001b[0m\u001b[0;34m\u001b[0m\u001b[0m\n",
            "\u001b[0;32m<ipython-input-53-0fc7d599aa96>\u001b[0m in \u001b[0;36mclassifierModel\u001b[0;34m(classifier, Xtrain, Ytrain, Xtest, roc)\u001b[0m\n\u001b[1;32m      8\u001b[0m         \u001b[0mprobs\u001b[0m \u001b[0;34m=\u001b[0m \u001b[0mclassifier\u001b[0m\u001b[0;34m.\u001b[0m\u001b[0mpredict_proba\u001b[0m\u001b[0;34m(\u001b[0m\u001b[0mX_test_count_tfidf\u001b[0m\u001b[0;34m)\u001b[0m\u001b[0;34m\u001b[0m\u001b[0;34m\u001b[0m\u001b[0m\n\u001b[1;32m      9\u001b[0m         \u001b[0mpreds\u001b[0m \u001b[0;34m=\u001b[0m \u001b[0mprobs\u001b[0m\u001b[0;34m[\u001b[0m\u001b[0;34m:\u001b[0m\u001b[0;34m,\u001b[0m\u001b[0;36m1\u001b[0m\u001b[0;34m]\u001b[0m\u001b[0;34m\u001b[0m\u001b[0;34m\u001b[0m\u001b[0m\n\u001b[0;32m---> 10\u001b[0;31m         \u001b[0mfpr_svm\u001b[0m\u001b[0;34m,\u001b[0m \u001b[0mtpr_svm\u001b[0m\u001b[0;34m,\u001b[0m \u001b[0mthreshold_svm\u001b[0m \u001b[0;34m=\u001b[0m \u001b[0mmetrics\u001b[0m\u001b[0;34m.\u001b[0m\u001b[0mroc_curve\u001b[0m\u001b[0;34m(\u001b[0m\u001b[0my_test\u001b[0m\u001b[0;34m,\u001b[0m \u001b[0mpreds\u001b[0m\u001b[0;34m)\u001b[0m\u001b[0;34m\u001b[0m\u001b[0;34m\u001b[0m\u001b[0m\n\u001b[0m\u001b[1;32m     11\u001b[0m         \u001b[0mroc_auc_svm\u001b[0m \u001b[0;34m=\u001b[0m \u001b[0mmetrics\u001b[0m\u001b[0;34m.\u001b[0m\u001b[0mauc\u001b[0m\u001b[0;34m(\u001b[0m\u001b[0mfpr_svm\u001b[0m\u001b[0;34m,\u001b[0m \u001b[0mtpr_svm\u001b[0m\u001b[0;34m)\u001b[0m\u001b[0;34m\u001b[0m\u001b[0;34m\u001b[0m\u001b[0m\n\u001b[1;32m     12\u001b[0m \u001b[0;34m\u001b[0m\u001b[0m\n",
            "\u001b[0;32m/usr/local/lib/python3.7/dist-packages/sklearn/metrics/_ranking.py\u001b[0m in \u001b[0;36mroc_curve\u001b[0;34m(y_true, y_score, pos_label, sample_weight, drop_intermediate)\u001b[0m\n\u001b[1;32m    961\u001b[0m     \"\"\"\n\u001b[1;32m    962\u001b[0m     fps, tps, thresholds = _binary_clf_curve(\n\u001b[0;32m--> 963\u001b[0;31m         \u001b[0my_true\u001b[0m\u001b[0;34m,\u001b[0m \u001b[0my_score\u001b[0m\u001b[0;34m,\u001b[0m \u001b[0mpos_label\u001b[0m\u001b[0;34m=\u001b[0m\u001b[0mpos_label\u001b[0m\u001b[0;34m,\u001b[0m \u001b[0msample_weight\u001b[0m\u001b[0;34m=\u001b[0m\u001b[0msample_weight\u001b[0m\u001b[0;34m\u001b[0m\u001b[0;34m\u001b[0m\u001b[0m\n\u001b[0m\u001b[1;32m    964\u001b[0m     )\n\u001b[1;32m    965\u001b[0m \u001b[0;34m\u001b[0m\u001b[0m\n",
            "\u001b[0;32m/usr/local/lib/python3.7/dist-packages/sklearn/metrics/_ranking.py\u001b[0m in \u001b[0;36m_binary_clf_curve\u001b[0;34m(y_true, y_score, pos_label, sample_weight)\u001b[0m\n\u001b[1;32m    729\u001b[0m     \u001b[0my_type\u001b[0m \u001b[0;34m=\u001b[0m \u001b[0mtype_of_target\u001b[0m\u001b[0;34m(\u001b[0m\u001b[0my_true\u001b[0m\u001b[0;34m)\u001b[0m\u001b[0;34m\u001b[0m\u001b[0;34m\u001b[0m\u001b[0m\n\u001b[1;32m    730\u001b[0m     \u001b[0;32mif\u001b[0m \u001b[0;32mnot\u001b[0m \u001b[0;34m(\u001b[0m\u001b[0my_type\u001b[0m \u001b[0;34m==\u001b[0m \u001b[0;34m\"binary\"\u001b[0m \u001b[0;32mor\u001b[0m \u001b[0;34m(\u001b[0m\u001b[0my_type\u001b[0m \u001b[0;34m==\u001b[0m \u001b[0;34m\"multiclass\"\u001b[0m \u001b[0;32mand\u001b[0m \u001b[0mpos_label\u001b[0m \u001b[0;32mis\u001b[0m \u001b[0;32mnot\u001b[0m \u001b[0;32mNone\u001b[0m\u001b[0;34m)\u001b[0m\u001b[0;34m)\u001b[0m\u001b[0;34m:\u001b[0m\u001b[0;34m\u001b[0m\u001b[0;34m\u001b[0m\u001b[0m\n\u001b[0;32m--> 731\u001b[0;31m         \u001b[0;32mraise\u001b[0m \u001b[0mValueError\u001b[0m\u001b[0;34m(\u001b[0m\u001b[0;34m\"{0} format is not supported\"\u001b[0m\u001b[0;34m.\u001b[0m\u001b[0mformat\u001b[0m\u001b[0;34m(\u001b[0m\u001b[0my_type\u001b[0m\u001b[0;34m)\u001b[0m\u001b[0;34m)\u001b[0m\u001b[0;34m\u001b[0m\u001b[0;34m\u001b[0m\u001b[0m\n\u001b[0m\u001b[1;32m    732\u001b[0m \u001b[0;34m\u001b[0m\u001b[0m\n\u001b[1;32m    733\u001b[0m     \u001b[0mcheck_consistent_length\u001b[0m\u001b[0;34m(\u001b[0m\u001b[0my_true\u001b[0m\u001b[0;34m,\u001b[0m \u001b[0my_score\u001b[0m\u001b[0;34m,\u001b[0m \u001b[0msample_weight\u001b[0m\u001b[0;34m)\u001b[0m\u001b[0;34m\u001b[0m\u001b[0;34m\u001b[0m\u001b[0m\n",
            "\u001b[0;31mValueError\u001b[0m: multiclass format is not supported"
          ]
        }
      ]
    },
    {
      "cell_type": "code",
      "source": [
        "print(\"\\nLogistic Regression with Count Vectors: \")\n",
        "classifierModel(LogisticRegression(), X_train_count, y_train, X_test_count,roc=True)\n",
        "\n",
        "print(\"\\nLogistic Regression with Count Vectors + TF-IDF: \")\n",
        "classifierModel(LogisticRegression(), X_train_count_tfidf, y_train, X_test_count_tfidf,roc=True)\n",
        "\n",
        "print(\"\\nLogistic Regression with N-Gram Vectors: \")\n",
        "classifierModel(LogisticRegression(), X_train_tfidf_ngram, y_train, X_test_tfidf_ngram,roc=False)"
      ],
      "metadata": {
        "colab": {
          "base_uri": "https://localhost:8080/",
          "height": 468
        },
        "id": "YsBrMw5iMgA6",
        "outputId": "87336316-6208-4f84-f79d-98eb2a81db28"
      },
      "execution_count": 57,
      "outputs": [
        {
          "output_type": "stream",
          "name": "stdout",
          "text": [
            "\n",
            "Logistic Regression with Count Vectors: \n",
            "==============================\n",
            "Accuracy :  0.4100334448160535\n",
            "==============================\n"
          ]
        },
        {
          "output_type": "error",
          "ename": "ValueError",
          "evalue": "ignored",
          "traceback": [
            "\u001b[0;31m---------------------------------------------------------------------------\u001b[0m",
            "\u001b[0;31mValueError\u001b[0m                                Traceback (most recent call last)",
            "\u001b[0;32m<ipython-input-57-d43b8965b3d8>\u001b[0m in \u001b[0;36m<module>\u001b[0;34m()\u001b[0m\n\u001b[1;32m      1\u001b[0m \u001b[0mprint\u001b[0m\u001b[0;34m(\u001b[0m\u001b[0;34m\"\\nLogistic Regression with Count Vectors: \"\u001b[0m\u001b[0;34m)\u001b[0m\u001b[0;34m\u001b[0m\u001b[0;34m\u001b[0m\u001b[0m\n\u001b[0;32m----> 2\u001b[0;31m \u001b[0mclassifierModel\u001b[0m\u001b[0;34m(\u001b[0m\u001b[0mLogisticRegression\u001b[0m\u001b[0;34m(\u001b[0m\u001b[0;34m)\u001b[0m\u001b[0;34m,\u001b[0m \u001b[0mX_train_count\u001b[0m\u001b[0;34m,\u001b[0m \u001b[0my_train\u001b[0m\u001b[0;34m,\u001b[0m \u001b[0mX_test_count\u001b[0m\u001b[0;34m,\u001b[0m\u001b[0mroc\u001b[0m\u001b[0;34m=\u001b[0m\u001b[0;32mTrue\u001b[0m\u001b[0;34m)\u001b[0m\u001b[0;34m\u001b[0m\u001b[0;34m\u001b[0m\u001b[0m\n\u001b[0m\u001b[1;32m      3\u001b[0m \u001b[0;34m\u001b[0m\u001b[0m\n\u001b[1;32m      4\u001b[0m \u001b[0mprint\u001b[0m\u001b[0;34m(\u001b[0m\u001b[0;34m\"\\nLogistic Regression with Count Vectors + TF-IDF: \"\u001b[0m\u001b[0;34m)\u001b[0m\u001b[0;34m\u001b[0m\u001b[0;34m\u001b[0m\u001b[0m\n\u001b[1;32m      5\u001b[0m \u001b[0mclassifierModel\u001b[0m\u001b[0;34m(\u001b[0m\u001b[0mLogisticRegression\u001b[0m\u001b[0;34m(\u001b[0m\u001b[0;34m)\u001b[0m\u001b[0;34m,\u001b[0m \u001b[0mX_train_count_tfidf\u001b[0m\u001b[0;34m,\u001b[0m \u001b[0my_train\u001b[0m\u001b[0;34m,\u001b[0m \u001b[0mX_test_count_tfidf\u001b[0m\u001b[0;34m,\u001b[0m\u001b[0mroc\u001b[0m\u001b[0;34m=\u001b[0m\u001b[0;32mTrue\u001b[0m\u001b[0;34m)\u001b[0m\u001b[0;34m\u001b[0m\u001b[0;34m\u001b[0m\u001b[0m\n",
            "\u001b[0;32m<ipython-input-53-0fc7d599aa96>\u001b[0m in \u001b[0;36mclassifierModel\u001b[0;34m(classifier, Xtrain, Ytrain, Xtest, roc)\u001b[0m\n\u001b[1;32m      8\u001b[0m         \u001b[0mprobs\u001b[0m \u001b[0;34m=\u001b[0m \u001b[0mclassifier\u001b[0m\u001b[0;34m.\u001b[0m\u001b[0mpredict_proba\u001b[0m\u001b[0;34m(\u001b[0m\u001b[0mX_test_count_tfidf\u001b[0m\u001b[0;34m)\u001b[0m\u001b[0;34m\u001b[0m\u001b[0;34m\u001b[0m\u001b[0m\n\u001b[1;32m      9\u001b[0m         \u001b[0mpreds\u001b[0m \u001b[0;34m=\u001b[0m \u001b[0mprobs\u001b[0m\u001b[0;34m[\u001b[0m\u001b[0;34m:\u001b[0m\u001b[0;34m,\u001b[0m\u001b[0;36m1\u001b[0m\u001b[0;34m]\u001b[0m\u001b[0;34m\u001b[0m\u001b[0;34m\u001b[0m\u001b[0m\n\u001b[0;32m---> 10\u001b[0;31m         \u001b[0mfpr_svm\u001b[0m\u001b[0;34m,\u001b[0m \u001b[0mtpr_svm\u001b[0m\u001b[0;34m,\u001b[0m \u001b[0mthreshold_svm\u001b[0m \u001b[0;34m=\u001b[0m \u001b[0mmetrics\u001b[0m\u001b[0;34m.\u001b[0m\u001b[0mroc_curve\u001b[0m\u001b[0;34m(\u001b[0m\u001b[0my_test\u001b[0m\u001b[0;34m,\u001b[0m \u001b[0mpreds\u001b[0m\u001b[0;34m)\u001b[0m\u001b[0;34m\u001b[0m\u001b[0;34m\u001b[0m\u001b[0m\n\u001b[0m\u001b[1;32m     11\u001b[0m         \u001b[0mroc_auc_svm\u001b[0m \u001b[0;34m=\u001b[0m \u001b[0mmetrics\u001b[0m\u001b[0;34m.\u001b[0m\u001b[0mauc\u001b[0m\u001b[0;34m(\u001b[0m\u001b[0mfpr_svm\u001b[0m\u001b[0;34m,\u001b[0m \u001b[0mtpr_svm\u001b[0m\u001b[0;34m)\u001b[0m\u001b[0;34m\u001b[0m\u001b[0;34m\u001b[0m\u001b[0m\n\u001b[1;32m     12\u001b[0m \u001b[0;34m\u001b[0m\u001b[0m\n",
            "\u001b[0;32m/usr/local/lib/python3.7/dist-packages/sklearn/metrics/_ranking.py\u001b[0m in \u001b[0;36mroc_curve\u001b[0;34m(y_true, y_score, pos_label, sample_weight, drop_intermediate)\u001b[0m\n\u001b[1;32m    961\u001b[0m     \"\"\"\n\u001b[1;32m    962\u001b[0m     fps, tps, thresholds = _binary_clf_curve(\n\u001b[0;32m--> 963\u001b[0;31m         \u001b[0my_true\u001b[0m\u001b[0;34m,\u001b[0m \u001b[0my_score\u001b[0m\u001b[0;34m,\u001b[0m \u001b[0mpos_label\u001b[0m\u001b[0;34m=\u001b[0m\u001b[0mpos_label\u001b[0m\u001b[0;34m,\u001b[0m \u001b[0msample_weight\u001b[0m\u001b[0;34m=\u001b[0m\u001b[0msample_weight\u001b[0m\u001b[0;34m\u001b[0m\u001b[0;34m\u001b[0m\u001b[0m\n\u001b[0m\u001b[1;32m    964\u001b[0m     )\n\u001b[1;32m    965\u001b[0m \u001b[0;34m\u001b[0m\u001b[0m\n",
            "\u001b[0;32m/usr/local/lib/python3.7/dist-packages/sklearn/metrics/_ranking.py\u001b[0m in \u001b[0;36m_binary_clf_curve\u001b[0;34m(y_true, y_score, pos_label, sample_weight)\u001b[0m\n\u001b[1;32m    729\u001b[0m     \u001b[0my_type\u001b[0m \u001b[0;34m=\u001b[0m \u001b[0mtype_of_target\u001b[0m\u001b[0;34m(\u001b[0m\u001b[0my_true\u001b[0m\u001b[0;34m)\u001b[0m\u001b[0;34m\u001b[0m\u001b[0;34m\u001b[0m\u001b[0m\n\u001b[1;32m    730\u001b[0m     \u001b[0;32mif\u001b[0m \u001b[0;32mnot\u001b[0m \u001b[0;34m(\u001b[0m\u001b[0my_type\u001b[0m \u001b[0;34m==\u001b[0m \u001b[0;34m\"binary\"\u001b[0m \u001b[0;32mor\u001b[0m \u001b[0;34m(\u001b[0m\u001b[0my_type\u001b[0m \u001b[0;34m==\u001b[0m \u001b[0;34m\"multiclass\"\u001b[0m \u001b[0;32mand\u001b[0m \u001b[0mpos_label\u001b[0m \u001b[0;32mis\u001b[0m \u001b[0;32mnot\u001b[0m \u001b[0;32mNone\u001b[0m\u001b[0;34m)\u001b[0m\u001b[0;34m)\u001b[0m\u001b[0;34m:\u001b[0m\u001b[0;34m\u001b[0m\u001b[0;34m\u001b[0m\u001b[0m\n\u001b[0;32m--> 731\u001b[0;31m         \u001b[0;32mraise\u001b[0m \u001b[0mValueError\u001b[0m\u001b[0;34m(\u001b[0m\u001b[0;34m\"{0} format is not supported\"\u001b[0m\u001b[0;34m.\u001b[0m\u001b[0mformat\u001b[0m\u001b[0;34m(\u001b[0m\u001b[0my_type\u001b[0m\u001b[0;34m)\u001b[0m\u001b[0;34m)\u001b[0m\u001b[0;34m\u001b[0m\u001b[0;34m\u001b[0m\u001b[0m\n\u001b[0m\u001b[1;32m    732\u001b[0m \u001b[0;34m\u001b[0m\u001b[0m\n\u001b[1;32m    733\u001b[0m     \u001b[0mcheck_consistent_length\u001b[0m\u001b[0;34m(\u001b[0m\u001b[0my_true\u001b[0m\u001b[0;34m,\u001b[0m \u001b[0my_score\u001b[0m\u001b[0;34m,\u001b[0m \u001b[0msample_weight\u001b[0m\u001b[0;34m)\u001b[0m\u001b[0;34m\u001b[0m\u001b[0;34m\u001b[0m\u001b[0m\n",
            "\u001b[0;31mValueError\u001b[0m: multiclass format is not supported"
          ]
        }
      ]
    },
    {
      "cell_type": "code",
      "source": [
        "import numpy as np\n",
        "import matplotlib.pyplot as plt\n",
        "import statistics"
      ],
      "metadata": {
        "id": "JkVEUAw7M0x8"
      },
      "execution_count": 58,
      "outputs": []
    },
    {
      "cell_type": "code",
      "source": [
        "Models = ['LinearSVM','MultinomialNB', 'RandomForest', 'LogisticRegression']\n",
        "\n",
        "lsvm_acc = [0.922,0.944,0.977]\n",
        "mnb_acc = [0.933,0.922,0.933]\n",
        "rf_acc = [0.944,0.955,0.966]\n",
        "lr_acc = [0.966,0.955,0.966]\n",
        "\n",
        "lsvm_pre = [0.922,0.944,0.98]\n",
        "mnb_pre = [0.933,0.922,0.94]\n",
        "rf_pre = [0.944,0.96,0.97]\n",
        "lr_pre = [0.97,0.96,0.97]\n",
        "\n",
        "lsvm_re = [0.922,0.944,0.98]\n",
        "mnb_re = [0.933,0.922,0.94]\n",
        "rf_re = [0.944,0.96,0.97]\n",
        "lr_re = [0.97,0.96,0.97]\n",
        "\n",
        "lsvm_f1 = [0.922,0.944,0.98]\n",
        "mnb_f1 = [0.933,0.922,0.93]\n",
        "rf_f1 = [0.944,0.96,0.97]\n",
        "lr_f1 = [0.97,0.96,0.97]\n",
        "\n",
        "\n",
        "print(\"Average Accuracy:==============\")\n",
        "print(\"Average LSVM: \",round(statistics.mean(lsvm_acc), 3))\n",
        "print(\"Average MNB: \",round(statistics.mean(mnb_acc), 3))\n",
        "print(\"Average RF: \",round(statistics.mean(rf_acc), 3))\n",
        "print(\"Average LR: \",round(statistics.mean(lr_acc), 3))\n",
        "\n",
        "\n",
        "print(\"Average Precision:==============\")\n",
        "print(\"Average LSVM: \",round(statistics.mean(lsvm_pre), 3))\n",
        "print(\"Average MNB: \",round(statistics.mean(mnb_pre), 3))\n",
        "print(\"Average RF: \",round(statistics.mean(rf_pre), 3))\n",
        "print(\"Average LR: \",round(statistics.mean(lr_pre), 3))\n",
        "\n",
        "\n",
        "print(\"Average Recall:==============\")\n",
        "print(\"Average LSVM: \",round(statistics.mean(lsvm_re), 3))\n",
        "print(\"Average MNB: \",round(statistics.mean(mnb_re), 3))\n",
        "print(\"Average RF: \",round(statistics.mean(rf_re), 3))\n",
        "print(\"Average LR: \",round(statistics.mean(lr_re), 3))\n",
        "\n",
        "\n",
        "print(\"Average F1-score:==============\")\n",
        "print(\"Average LSVM: \",round(statistics.mean(lsvm_f1), 3))\n",
        "print(\"Average MNB: \",round(statistics.mean(mnb_f1), 3))\n",
        "print(\"Average RF: \",round(statistics.mean(rf_f1), 3))\n",
        "print(\"Average LR: \",round(statistics.mean(lr_f1), 3))"
      ],
      "metadata": {
        "colab": {
          "base_uri": "https://localhost:8080/"
        },
        "id": "_8_Dj3qAM2oK",
        "outputId": "f8405701-fdcd-46be-fb52-1db0229b0c16"
      },
      "execution_count": 59,
      "outputs": [
        {
          "output_type": "stream",
          "name": "stdout",
          "text": [
            "Average Accuracy:==============\n",
            "Average LSVM:  0.948\n",
            "Average MNB:  0.929\n",
            "Average RF:  0.955\n",
            "Average LR:  0.962\n",
            "Average Precision:==============\n",
            "Average LSVM:  0.949\n",
            "Average MNB:  0.932\n",
            "Average RF:  0.958\n",
            "Average LR:  0.967\n",
            "Average Recall:==============\n",
            "Average LSVM:  0.949\n",
            "Average MNB:  0.932\n",
            "Average RF:  0.958\n",
            "Average LR:  0.967\n",
            "Average F1-score:==============\n",
            "Average LSVM:  0.949\n",
            "Average MNB:  0.928\n",
            "Average RF:  0.958\n",
            "Average LR:  0.967\n"
          ]
        }
      ]
    },
    {
      "cell_type": "code",
      "source": [
        "n_groups = 3\n",
        "\n",
        "fig, ax = plt.subplots(figsize=(8,5))\n",
        "\n",
        "index = np.arange(n_groups)\n",
        "bar_width = 0.2\n",
        "\n",
        "opacity = 0.9\n",
        "error_config = {'ecolor': '0.3'}\n",
        "\n",
        "\n",
        "\n",
        "rects1 = ax.bar(index, lsvm_acc, bar_width,\n",
        "                alpha=opacity, color='#E52B50', error_kw=error_config,edgecolor='black',\n",
        "                label=Models[0])\n",
        "\n",
        "rects2 = ax.bar(index + bar_width, mnb_acc, bar_width,\n",
        "                alpha=opacity, color='#9F2B68',edgecolor='black',\n",
        "                error_kw=error_config,\n",
        "                label=Models[1])\n",
        "\n",
        "rects3 = ax.bar(index + (bar_width*2), rf_acc, bar_width,edgecolor='black',\n",
        "                alpha=opacity, color='#F19CBB',\n",
        "                error_kw=error_config,\n",
        "                label=Models[2])\n",
        "\n",
        "rects4 = ax.bar(index + (bar_width*3), lr_acc, bar_width,edgecolor='black',\n",
        "                alpha=opacity, color='#3DDC84',\n",
        "                error_kw=error_config,\n",
        "                label=Models[3])\n",
        "\n",
        "ax.set_xlabel('Classifier Models')\n",
        "ax.set_ylabel('Accuracy')\n",
        "ax.set_title('Accuracy of Models')\n",
        "ax.set_xticks(index + bar_width)\n",
        "ax.set_xticklabels(('CountVectorizer', 'Count-TfidfTransformer', 'N-grams'))\n",
        "chartBox = ax.get_position()\n",
        "ax.set_position([chartBox.x0, chartBox.y0, chartBox.width*0.6, chartBox.height])\n",
        "ax.legend(loc='upper center', bbox_to_anchor=(1.25, 0.8), shadow=True, ncol=1)\n",
        "plt.ylim(0.5, 1.0)\n",
        "fig.tight_layout()\n",
        "plt.show()\n"
      ],
      "metadata": {
        "colab": {
          "base_uri": "https://localhost:8080/",
          "height": 369
        },
        "id": "A3MBxVlEM_NK",
        "outputId": "f244085e-4bad-4c90-bd1c-5ab355a8c7f6"
      },
      "execution_count": 60,
      "outputs": [
        {
          "output_type": "display_data",
          "data": {
            "text/plain": [
              "<Figure size 576x360 with 1 Axes>"
            ],
            "image/png": "[encoded data removed]"
          },
          "metadata": {
            "needs_background": "light"
          }
        }
      ]
    },
    {
      "cell_type": "code",
      "source": [
        "#Average Accuracy\n",
        "Models = ['LinearSVM','MultinomialNB', 'RandomForest', 'LogisticRegression']\n",
        "Values = [0.947,0.929,0.955,0.962]\n",
        "\n",
        "n_groups = 4\n",
        "\n",
        "fig, ax = plt.subplots(figsize=(30,15))\n",
        "\n",
        "index = np.arange(n_groups)\n",
        "bar_width = 0.4\n",
        "\n",
        "opacity = 0.8\n",
        "error_config = {'ecolor': '0.3'}\n",
        "\n",
        "fts1 = ax.bar(index, Values, bar_width,\n",
        "                alpha=opacity, color='b', error_kw=error_config)\n",
        "\n",
        "ax.set_xlabel('Classifier Models', fontsize = 33, labelpad=10)\n",
        "ax.set_ylabel('Average Accuracy Score', fontsize = 33, labelpad=10)\n",
        "ax.set_title('Average Accuracy Score of Models', fontsize = 40, y = 1.03)\n",
        "ax.set_xticks(index)\n",
        "ax.set_xticklabels((Models[0], Models[1], Models[2], Models[3]), fontsize = 25)\n",
        "ax.set_yticklabels(('0.5','0.6','0.7','0.8','0.9','1.0'),fontsize=25)\n",
        "\n",
        "plt.ylim(0.5, 1.0)\n",
        "\n",
        "plt.show()\n",
        "fig.savefig(\"pimage6.png\",bbox_inches='tight')"
      ],
      "metadata": {
        "colab": {
          "base_uri": "https://localhost:8080/",
          "height": 829
        },
        "id": "OLXdsORoND6q",
        "outputId": "d8f7d494-428c-43d5-d635-45eec667d56f"
      },
      "execution_count": 61,
      "outputs": [
        {
          "output_type": "display_data",
          "data": {
            "text/plain": [
              "<Figure size 2160x1080 with 1 Axes>"
            ],
            "image/png": "[encoded data removed]"
          },
          "metadata": {
            "needs_background": "light"
          }
        }
      ]
    },
    {
      "cell_type": "code",
      "source": [
        "#compare feature sets for two labels\n",
        "fig, ax = plt.subplots(figsize=(20,10))\n",
        "\n",
        "features = ('Word Counts', 'Frequency of Word Counts', 'N-grams')\n",
        "values= [0.9375,0.9444,0.9611]\n",
        "\n",
        "y_pos = np.arange(len(features))\n",
        "\n",
        "ax.barh(y_pos, values, align='center',color='#2BD32D', ecolor='black')\n",
        "ax.set_yticks(y_pos)\n",
        "ax.set_yticklabels(features,fontsize=17)\n",
        "ax.set_xticklabels(('0.75','0.8','0.85','0.9','0.95','1.0'),fontsize=17)\n",
        "ax.invert_yaxis() \n",
        "ax.set_xlabel('Average Accuracy', labelpad=10, fontsize=20)\n",
        "ax.set_ylabel('Feature Sets', labelpad=10, fontsize=20)\n",
        "ax.set_title('Feature set Comparison', fontsize=25)\n",
        "plt.xlim(0.75, 1.0)\n",
        "\n",
        "plt.show()\n",
        "\n",
        "fig.savefig(\"pimage16.png\",bbox_inches='tight')"
      ],
      "metadata": {
        "colab": {
          "base_uri": "https://localhost:8080/",
          "height": 654
        },
        "id": "Y0BmS4r2NG0i",
        "outputId": "e7287523-f877-407c-9bd7-b5a179e1559b"
      },
      "execution_count": 63,
      "outputs": [
        {
          "output_type": "display_data",
          "data": {
            "text/plain": [
              "<Figure size 1440x720 with 1 Axes>"
            ],
            "image/png": "[encoded data removed]"
          },
          "metadata": {
            "needs_background": "light"
          }
        }
      ]
    },
    {
      "cell_type": "code",
      "source": [
        "Models = ['LSTM+CNN','CNN+GRU']\n",
        "Values = [0.8667,0.9889]\n",
        "\n",
        "n_groups = 2\n",
        "\n",
        "fig, ax = plt.subplots(figsize=(5,6))\n",
        "\n",
        "index = np.arange(n_groups)\n",
        "bar_width = 0.5\n",
        "\n",
        "opacity = 0.8\n",
        "error_config = {'ecolor': '0.2'}\n",
        "width=1.0,\n",
        "\n",
        "fts1 = ax.bar(index, Values, bar_width,\n",
        "                alpha=opacity, color=['c','#2BD32D'], error_kw=error_config)\n",
        "\n",
        "#ax.set_xlabel('Classifier', fontsize = 33, labelpad=5)\n",
        "ax.set_ylabel('Accuracy Score')\n",
        "ax.set_title('Accuracy Score of Deep Learning Models')\n",
        "ax.set_xticks(index)\n",
        "ax.set_xticklabels((Models[0], Models[1]))\n",
        "ax.set_yticklabels(('0.5','0.6','0.7','0.8','0.9','1.0'))\n",
        "\n",
        "plt.ylim(0.5, 1.0)\n",
        "\n",
        "plt.show()"
      ],
      "metadata": {
        "colab": {
          "base_uri": "https://localhost:8080/",
          "height": 391
        },
        "id": "GAoOrvQqNQP6",
        "outputId": "b48fb831-ad1f-4752-e2b5-960950852664"
      },
      "execution_count": 64,
      "outputs": [
        {
          "output_type": "display_data",
          "data": {
            "text/plain": [
              "<Figure size 360x432 with 1 Axes>"
            ],
            "image/png": "[encoded data removed]"
          },
          "metadata": {
            "needs_background": "light"
          }
        }
      ]
    }
  ]
}